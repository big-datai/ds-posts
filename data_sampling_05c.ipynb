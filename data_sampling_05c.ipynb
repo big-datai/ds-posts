{
 "cells": [
  {
   "cell_type": "markdown",
   "metadata": {},
   "source": [
    "# Index\n",
    "\n",
    "### 1. Dealing with categorical features\n",
    "    1.1. Bucketing bins\n",
    "    1.2. and One-Hot encoding\n",
    "    1.3 string integet -> identity, vocabulary_file if don't know go with hash bucket\n",
    "    \n",
    "### 2. Feature transformation\n",
    "    2.1 log\n",
    "   \n",
    "    2.2 feature expentions, PolynomialFeatures, extraction\n",
    "    \n",
    "    2.3 Scaling or normalizing features within a range \n",
    "    \n",
    "### 3. Feature crossing - (long, lat)\n",
    "\n",
    "### 4. Row aggregation, group by\n",
    "\n",
    "    4.1 Moving averages with panda df\n",
    "\n",
    "### 5. Embedding works with everything space reduction\n",
    "\n",
    "### 6. Simple model improved after feature engineering.\n"
   ]
  },
  {
   "cell_type": "code",
   "execution_count": 1,
   "metadata": {},
   "outputs": [],
   "source": [
    "import numpy as np\n",
    "import os\n",
    "os.environ['TF_CPP_MIN_LOG_LEVEL'] = '3' \n",
    "import pandas as pd\n",
    "import tensorflow as tf\n",
    "tf.logging.set_verbosity(tf.logging.ERROR)\n",
    "import matplotlib.pyplot as plt\n",
    "from collections import OrderedDict"
   ]
  },
  {
   "cell_type": "code",
   "execution_count": 2,
   "metadata": {},
   "outputs": [],
   "source": [
    "# Project constants\n",
    "LEARN_SIZE = 50\n",
    "POLY_DEGREE = 2\n",
    "LEARNING_RATE = 0.001\n",
    "DISPLAY_STEP = 200\n",
    "NUM_STEPS = 3000\n",
    "PRINT_LIMIT = 5"
   ]
  },
  {
   "cell_type": "code",
   "execution_count": 3,
   "metadata": {},
   "outputs": [
    {
     "name": "stdout",
     "output_type": "stream",
     "text": [
      "\n",
      "WARNING: The TensorFlow contrib module will not be included in TensorFlow 2.0.\n",
      "For more information, please see:\n",
      "  * https://github.com/tensorflow/community/blob/master/rfcs/20180907-contrib-sunset.md\n",
      "  * https://github.com/tensorflow/addons\n",
      "If you depend on functionality not listed there, please file an issue.\n",
      "\n"
     ]
    }
   ],
   "source": [
    "# Immediate execution\n",
    "tf.enable_eager_execution()\n",
    "tfe = tf.contrib.eager"
   ]
  },
  {
   "cell_type": "markdown",
   "metadata": {},
   "source": [
    "# Load dataset\n",
    "\n",
    "From Google Machine Learning crash course"
   ]
  },
  {
   "cell_type": "code",
   "execution_count": 4,
   "metadata": {},
   "outputs": [],
   "source": [
    "housing_df = pd.read_csv(\"https://storage.googleapis.com/ml_universities/california_housing_train.csv\", sep=\",\")"
   ]
  },
  {
   "cell_type": "markdown",
   "metadata": {},
   "source": [
    "Let's look over the dataset"
   ]
  },
  {
   "cell_type": "code",
   "execution_count": 5,
   "metadata": {},
   "outputs": [
    {
     "data": {
      "text/html": [
       "<div>\n",
       "<style scoped>\n",
       "    .dataframe tbody tr th:only-of-type {\n",
       "        vertical-align: middle;\n",
       "    }\n",
       "\n",
       "    .dataframe tbody tr th {\n",
       "        vertical-align: top;\n",
       "    }\n",
       "\n",
       "    .dataframe thead th {\n",
       "        text-align: right;\n",
       "    }\n",
       "</style>\n",
       "<table border=\"1\" class=\"dataframe\">\n",
       "  <thead>\n",
       "    <tr style=\"text-align: right;\">\n",
       "      <th></th>\n",
       "      <th>longitude</th>\n",
       "      <th>latitude</th>\n",
       "      <th>housing_median_age</th>\n",
       "      <th>total_rooms</th>\n",
       "      <th>total_bedrooms</th>\n",
       "      <th>population</th>\n",
       "      <th>households</th>\n",
       "      <th>median_income</th>\n",
       "      <th>median_house_value</th>\n",
       "    </tr>\n",
       "  </thead>\n",
       "  <tbody>\n",
       "    <tr>\n",
       "      <th>0</th>\n",
       "      <td>-114.31</td>\n",
       "      <td>34.19</td>\n",
       "      <td>15.0</td>\n",
       "      <td>5612.0</td>\n",
       "      <td>1283.0</td>\n",
       "      <td>1015.0</td>\n",
       "      <td>472.0</td>\n",
       "      <td>1.4936</td>\n",
       "      <td>66900.0</td>\n",
       "    </tr>\n",
       "    <tr>\n",
       "      <th>1</th>\n",
       "      <td>-114.47</td>\n",
       "      <td>34.40</td>\n",
       "      <td>19.0</td>\n",
       "      <td>7650.0</td>\n",
       "      <td>1901.0</td>\n",
       "      <td>1129.0</td>\n",
       "      <td>463.0</td>\n",
       "      <td>1.8200</td>\n",
       "      <td>80100.0</td>\n",
       "    </tr>\n",
       "    <tr>\n",
       "      <th>2</th>\n",
       "      <td>-114.56</td>\n",
       "      <td>33.69</td>\n",
       "      <td>17.0</td>\n",
       "      <td>720.0</td>\n",
       "      <td>174.0</td>\n",
       "      <td>333.0</td>\n",
       "      <td>117.0</td>\n",
       "      <td>1.6509</td>\n",
       "      <td>85700.0</td>\n",
       "    </tr>\n",
       "    <tr>\n",
       "      <th>3</th>\n",
       "      <td>-114.57</td>\n",
       "      <td>33.64</td>\n",
       "      <td>14.0</td>\n",
       "      <td>1501.0</td>\n",
       "      <td>337.0</td>\n",
       "      <td>515.0</td>\n",
       "      <td>226.0</td>\n",
       "      <td>3.1917</td>\n",
       "      <td>73400.0</td>\n",
       "    </tr>\n",
       "    <tr>\n",
       "      <th>4</th>\n",
       "      <td>-114.57</td>\n",
       "      <td>33.57</td>\n",
       "      <td>20.0</td>\n",
       "      <td>1454.0</td>\n",
       "      <td>326.0</td>\n",
       "      <td>624.0</td>\n",
       "      <td>262.0</td>\n",
       "      <td>1.9250</td>\n",
       "      <td>65500.0</td>\n",
       "    </tr>\n",
       "  </tbody>\n",
       "</table>\n",
       "</div>"
      ],
      "text/plain": [
       "   longitude  latitude  housing_median_age  total_rooms  total_bedrooms  \\\n",
       "0    -114.31     34.19                15.0       5612.0          1283.0   \n",
       "1    -114.47     34.40                19.0       7650.0          1901.0   \n",
       "2    -114.56     33.69                17.0        720.0           174.0   \n",
       "3    -114.57     33.64                14.0       1501.0           337.0   \n",
       "4    -114.57     33.57                20.0       1454.0           326.0   \n",
       "\n",
       "   population  households  median_income  median_house_value  \n",
       "0      1015.0       472.0         1.4936             66900.0  \n",
       "1      1129.0       463.0         1.8200             80100.0  \n",
       "2       333.0       117.0         1.6509             85700.0  \n",
       "3       515.0       226.0         3.1917             73400.0  \n",
       "4       624.0       262.0         1.9250             65500.0  "
      ]
     },
     "execution_count": 5,
     "metadata": {},
     "output_type": "execute_result"
    }
   ],
   "source": [
    "housing_df.head(PRINT_LIMIT)"
   ]
  },
  {
   "cell_type": "code",
   "execution_count": 6,
   "metadata": {},
   "outputs": [
    {
     "data": {
      "text/html": [
       "<div>\n",
       "<style scoped>\n",
       "    .dataframe tbody tr th:only-of-type {\n",
       "        vertical-align: middle;\n",
       "    }\n",
       "\n",
       "    .dataframe tbody tr th {\n",
       "        vertical-align: top;\n",
       "    }\n",
       "\n",
       "    .dataframe thead th {\n",
       "        text-align: right;\n",
       "    }\n",
       "</style>\n",
       "<table border=\"1\" class=\"dataframe\">\n",
       "  <thead>\n",
       "    <tr style=\"text-align: right;\">\n",
       "      <th></th>\n",
       "      <th>longitude</th>\n",
       "      <th>latitude</th>\n",
       "      <th>housing_median_age</th>\n",
       "      <th>total_rooms</th>\n",
       "      <th>total_bedrooms</th>\n",
       "      <th>population</th>\n",
       "      <th>households</th>\n",
       "      <th>median_income</th>\n",
       "      <th>median_house_value</th>\n",
       "    </tr>\n",
       "  </thead>\n",
       "  <tbody>\n",
       "    <tr>\n",
       "      <th>count</th>\n",
       "      <td>17000.000000</td>\n",
       "      <td>17000.000000</td>\n",
       "      <td>17000.000000</td>\n",
       "      <td>17000.000000</td>\n",
       "      <td>17000.000000</td>\n",
       "      <td>17000.000000</td>\n",
       "      <td>17000.000000</td>\n",
       "      <td>17000.000000</td>\n",
       "      <td>17000.000000</td>\n",
       "    </tr>\n",
       "    <tr>\n",
       "      <th>mean</th>\n",
       "      <td>-119.562108</td>\n",
       "      <td>35.625225</td>\n",
       "      <td>28.589353</td>\n",
       "      <td>2643.664412</td>\n",
       "      <td>539.410824</td>\n",
       "      <td>1429.573941</td>\n",
       "      <td>501.221941</td>\n",
       "      <td>3.883578</td>\n",
       "      <td>207300.912353</td>\n",
       "    </tr>\n",
       "    <tr>\n",
       "      <th>std</th>\n",
       "      <td>2.005166</td>\n",
       "      <td>2.137340</td>\n",
       "      <td>12.586937</td>\n",
       "      <td>2179.947071</td>\n",
       "      <td>421.499452</td>\n",
       "      <td>1147.852959</td>\n",
       "      <td>384.520841</td>\n",
       "      <td>1.908157</td>\n",
       "      <td>115983.764387</td>\n",
       "    </tr>\n",
       "    <tr>\n",
       "      <th>min</th>\n",
       "      <td>-124.350000</td>\n",
       "      <td>32.540000</td>\n",
       "      <td>1.000000</td>\n",
       "      <td>2.000000</td>\n",
       "      <td>1.000000</td>\n",
       "      <td>3.000000</td>\n",
       "      <td>1.000000</td>\n",
       "      <td>0.499900</td>\n",
       "      <td>14999.000000</td>\n",
       "    </tr>\n",
       "    <tr>\n",
       "      <th>25%</th>\n",
       "      <td>-121.790000</td>\n",
       "      <td>33.930000</td>\n",
       "      <td>18.000000</td>\n",
       "      <td>1462.000000</td>\n",
       "      <td>297.000000</td>\n",
       "      <td>790.000000</td>\n",
       "      <td>282.000000</td>\n",
       "      <td>2.566375</td>\n",
       "      <td>119400.000000</td>\n",
       "    </tr>\n",
       "    <tr>\n",
       "      <th>50%</th>\n",
       "      <td>-118.490000</td>\n",
       "      <td>34.250000</td>\n",
       "      <td>29.000000</td>\n",
       "      <td>2127.000000</td>\n",
       "      <td>434.000000</td>\n",
       "      <td>1167.000000</td>\n",
       "      <td>409.000000</td>\n",
       "      <td>3.544600</td>\n",
       "      <td>180400.000000</td>\n",
       "    </tr>\n",
       "    <tr>\n",
       "      <th>75%</th>\n",
       "      <td>-118.000000</td>\n",
       "      <td>37.720000</td>\n",
       "      <td>37.000000</td>\n",
       "      <td>3151.250000</td>\n",
       "      <td>648.250000</td>\n",
       "      <td>1721.000000</td>\n",
       "      <td>605.250000</td>\n",
       "      <td>4.767000</td>\n",
       "      <td>265000.000000</td>\n",
       "    </tr>\n",
       "    <tr>\n",
       "      <th>max</th>\n",
       "      <td>-114.310000</td>\n",
       "      <td>41.950000</td>\n",
       "      <td>52.000000</td>\n",
       "      <td>37937.000000</td>\n",
       "      <td>6445.000000</td>\n",
       "      <td>35682.000000</td>\n",
       "      <td>6082.000000</td>\n",
       "      <td>15.000100</td>\n",
       "      <td>500001.000000</td>\n",
       "    </tr>\n",
       "  </tbody>\n",
       "</table>\n",
       "</div>"
      ],
      "text/plain": [
       "          longitude      latitude  housing_median_age   total_rooms  \\\n",
       "count  17000.000000  17000.000000        17000.000000  17000.000000   \n",
       "mean    -119.562108     35.625225           28.589353   2643.664412   \n",
       "std        2.005166      2.137340           12.586937   2179.947071   \n",
       "min     -124.350000     32.540000            1.000000      2.000000   \n",
       "25%     -121.790000     33.930000           18.000000   1462.000000   \n",
       "50%     -118.490000     34.250000           29.000000   2127.000000   \n",
       "75%     -118.000000     37.720000           37.000000   3151.250000   \n",
       "max     -114.310000     41.950000           52.000000  37937.000000   \n",
       "\n",
       "       total_bedrooms    population    households  median_income  \\\n",
       "count    17000.000000  17000.000000  17000.000000   17000.000000   \n",
       "mean       539.410824   1429.573941    501.221941       3.883578   \n",
       "std        421.499452   1147.852959    384.520841       1.908157   \n",
       "min          1.000000      3.000000      1.000000       0.499900   \n",
       "25%        297.000000    790.000000    282.000000       2.566375   \n",
       "50%        434.000000   1167.000000    409.000000       3.544600   \n",
       "75%        648.250000   1721.000000    605.250000       4.767000   \n",
       "max       6445.000000  35682.000000   6082.000000      15.000100   \n",
       "\n",
       "       median_house_value  \n",
       "count        17000.000000  \n",
       "mean        207300.912353  \n",
       "std         115983.764387  \n",
       "min          14999.000000  \n",
       "25%         119400.000000  \n",
       "50%         180400.000000  \n",
       "75%         265000.000000  \n",
       "max         500001.000000  "
      ]
     },
     "execution_count": 6,
     "metadata": {},
     "output_type": "execute_result"
    }
   ],
   "source": [
    "housing_df.describe()"
   ]
  },
  {
   "cell_type": "markdown",
   "metadata": {},
   "source": [
    "It seems reasonable to evaluate also the dataset features. The dataset is very abundant, so we may limit the data only for the evaluation purposes."
   ]
  },
  {
   "cell_type": "code",
   "execution_count": 7,
   "metadata": {},
   "outputs": [],
   "source": [
    "housing_df = housing_df[:LEARN_SIZE]"
   ]
  },
  {
   "cell_type": "markdown",
   "metadata": {},
   "source": [
    "It is a reasonable task to start from the data check. Is all data numerical? Does it contain missed values? Pandas can help us with a handy check."
   ]
  },
  {
   "cell_type": "code",
   "execution_count": 8,
   "metadata": {
    "scrolled": true
   },
   "outputs": [
    {
     "name": "stdout",
     "output_type": "stream",
     "text": [
      "Shape before missing and corrupt values check:  (50, 9)\n",
      "Shape after missing and corrupt values check:  (50, 9)\n"
     ]
    }
   ],
   "source": [
    "print('Shape before missing and corrupt values check: ', housing_df.shape)\n",
    "\n",
    "# Force number conversion\n",
    "for col in list(housing_df):\n",
    "    housing_df[col] = pd.to_numeric(housing_df[col], errors='coerce')\n",
    "\n",
    "# Remove intrinsic and resulted NaN values\n",
    "housing_df.dropna(inplace=True)\n",
    "\n",
    "print('Shape after missing and corrupt values check: ', housing_df.shape)"
   ]
  },
  {
   "cell_type": "markdown",
   "metadata": {},
   "source": [
    "So, all values are appropriate.\n",
    "\n",
    "We can continue with the Tensorflow data processing now. We may prepare the uniform routine to convert any numeric feature to the Feature Column. This routine also can use predefined transformation function."
   ]
  },
  {
   "cell_type": "code",
   "execution_count": 9,
   "metadata": {},
   "outputs": [],
   "source": [
    "def prepare_feature_numeric_column(feature, transformer=None):\n",
    "    if transformer:\n",
    "        feature_column = tf.feature_column.numeric_column(feature, normalizer_fn=transformer)\n",
    "    else:\n",
    "        feature_column = tf.feature_column.numeric_column(feature)\n",
    "    feature_tensor = {feature: tf.convert_to_tensor(housing_df[feature])}\n",
    "    return tf.feature_column.input_layer(feature_tensor, feature_column)"
   ]
  },
  {
   "cell_type": "markdown",
   "metadata": {},
   "source": [
    "# 1. Dealing with categorical features\n",
    "1.1. Bucketing bins and One-Hot encoding\n",
    "1.2\n",
    "\n",
    "Some numeric values perform better in the categorized form. For example, we can convert 'Housing median age' field into bucketing form. Such operation results in the one-hot-encoded matrix with the parameters separated into predefined bins."
   ]
  },
  {
   "cell_type": "code",
   "execution_count": 10,
   "metadata": {},
   "outputs": [
    {
     "name": "stdout",
     "output_type": "stream",
     "text": [
      "[[0. 1. 0. 0. 0.]\n",
      " [0. 1. 0. 0. 0.]\n",
      " [0. 1. 0. 0. 0.]\n",
      " [0. 1. 0. 0. 0.]\n",
      " [0. 0. 1. 0. 0.]]\n"
     ]
    }
   ],
   "source": [
    "feature_column = tf.feature_column.numeric_column('housing_median_age')\n",
    "feature = {'housing_median_age': tf.convert_to_tensor(housing_df['housing_median_age'])}\n",
    "\n",
    "bucketized_column = tf.feature_column.bucketized_column(\n",
    "    source_column = feature_column,\n",
    "    boundaries = [10, 20, 30, 40])\n",
    "\n",
    "net_age_bucket = tf.feature_column.input_layer(feature, bucketized_column)\n",
    "print(net_age_bucket.numpy()[:PRINT_LIMIT])"
   ]
  },
  {
   "cell_type": "code",
   "execution_count": null,
   "metadata": {},
   "outputs": [],
   "source": [
    "# one hot encoding no bins"
   ]
  },
  {
   "cell_type": "markdown",
   "metadata": {},
   "source": [
    "Also a more condensed representation would help in our further calculations. This one-hot-decoding gives us a flat category (rank of current bin)."
   ]
  },
  {
   "cell_type": "code",
   "execution_count": 11,
   "metadata": {},
   "outputs": [
    {
     "name": "stdout",
     "output_type": "stream",
     "text": [
      "[[1.]\n",
      " [1.]\n",
      " [1.]\n",
      " [1.]\n",
      " [2.]]\n"
     ]
    }
   ],
   "source": [
    "bucket_index = tf.reshape(tf.cast(tf.argmax(net_age_bucket, axis=1), tf.float32), [-1, 1])\n",
    "print(bucket_index.numpy()[:PRINT_LIMIT])"
   ]
  },
  {
   "cell_type": "markdown",
   "metadata": {},
   "source": [
    "# 2. Feature transformation\n",
    "## 2.1 log\n",
    "Tensorflow helps us to make a direct conversion of feature data during the import. For example, we obtain a log transformed data directly."
   ]
  },
  {
   "cell_type": "code",
   "execution_count": 12,
   "metadata": {},
   "outputs": [
    {
     "name": "stdout",
     "output_type": "stream",
     "text": [
      "[[2.7080503]\n",
      " [2.944439 ]\n",
      " [2.8332133]\n",
      " [2.6390574]\n",
      " [2.9957323]]\n"
     ]
    }
   ],
   "source": [
    "#todo do not use function\n",
    "def log_transformer(x):\n",
    "    return tf.cast(tf.log(x), dtype=tf.float32)\n",
    "\n",
    "net_age_log = prepare_feature_numeric_column('housing_median_age', log_transformer)\n",
    "print(net_age_log.numpy()[:PRINT_LIMIT])"
   ]
  },
  {
   "cell_type": "markdown",
   "metadata": {},
   "source": [
    "## 2.2 feature \n",
    "Data conversion may include a popular polynomial conversion. We will get the polynomially transformed (squared) data in the next cell."
   ]
  },
  {
   "cell_type": "code",
   "execution_count": 33,
   "metadata": {},
   "outputs": [
    {
     "name": "stdout",
     "output_type": "stream",
     "text": [
      "[[225.]\n",
      " [361.]\n",
      " [289.]\n",
      " [196.]\n",
      " [400.]]\n"
     ]
    }
   ],
   "source": [
    "#todo put multiple polinomials, show the input and output together,plot it\n",
    "def poly_transformer(x):\n",
    "    return tf.cast(tf.pow(x, POLY_DEGREE), dtype=tf.float32)\n",
    "\n",
    "net_age_poly = prepare_feature_numeric_column('housing_median_age', poly_transformer)\n",
    "print(net_age_poly.numpy()[:PRINT_LIMIT])"
   ]
  },
  {
   "cell_type": "markdown",
   "metadata": {},
   "source": [
    "## 2.3 Scaling or normalizing features within a range \n",
    "Normalization is one of the most popular data transformation methods. Tensorflow helps us to prepare a feature column with zero mean and uniform standard deviation easily."
   ]
  },
  {
   "cell_type": "code",
   "execution_count": 14,
   "metadata": {},
   "outputs": [
    {
     "name": "stdout",
     "output_type": "stream",
     "text": [
      "[[-0.9863035 ]\n",
      " [-0.5338707 ]\n",
      " [-0.7600871 ]\n",
      " [-1.0994117 ]\n",
      " [-0.42076248]]\n"
     ]
    }
   ],
   "source": [
    "# use tf scaling function\n",
    "val_mean = housing_df['housing_median_age'].mean()\n",
    "val_std = housing_df['housing_median_age'].std()\n",
    "\n",
    "def scaler(x):\n",
    "    return (tf.cast(x, dtype=tf.float32) - val_mean) / val_std\n",
    "\n",
    "net_age_scale = prepare_feature_numeric_column('housing_median_age', scaler)\n",
    "print(net_age_scale.numpy()[:PRINT_LIMIT])"
   ]
  },
  {
   "cell_type": "markdown",
   "metadata": {},
   "source": [
    "# 3. Feature crossing \n",
    "Need to mention also more complex data processing methods like feature crossing. They could help us to combine similar variables  for a further simultaneous processing."
   ]
  },
  {
   "cell_type": "code",
   "execution_count": 36,
   "metadata": {},
   "outputs": [],
   "source": [
    "def get_quantile_based_boundaries(feature_values, num_buckets):\n",
    "    boundaries = np.arange(1.0, num_buckets) / num_buckets\n",
    "    quantiles = feature_values.quantile(boundaries)\n",
    "    return [quantiles[q] for q in quantiles.keys()]"
   ]
  },
  {
   "cell_type": "code",
   "execution_count": null,
   "metadata": {},
   "outputs": [],
   "source": [
    "# X*Y^-1"
   ]
  },
  {
   "cell_type": "code",
   "execution_count": 15,
   "metadata": {},
   "outputs": [
    {
     "data": {
      "text/plain": [
       "0    5.529064\n",
       "1    6.775908\n",
       "2    2.162162\n",
       "3    2.914563\n",
       "4    2.330128\n",
       "Name: rooms_per_person, dtype: float64"
      ]
     },
     "execution_count": 15,
     "metadata": {},
     "output_type": "execute_result"
    }
   ],
   "source": [
    "housing_df['rooms_per_person'] = housing_df['total_rooms'] / housing_df['population']\n",
    "housing_df['rooms_per_person'].head(PRINT_LIMIT)"
   ]
  },
  {
   "cell_type": "markdown",
   "metadata": {},
   "source": [
    "# 4. Row aggregation, group by,\n",
    "A detailed dataset evaluation may include grouping of some features. What if we want to estimate average dataset values related to the same housing mean age?"
   ]
  },
  {
   "cell_type": "code",
   "execution_count": 34,
   "metadata": {},
   "outputs": [],
   "source": [
    "# mean on axis 1\n",
    "# use case or remove"
   ]
  },
  {
   "cell_type": "code",
   "execution_count": 16,
   "metadata": {
    "scrolled": false
   },
   "outputs": [
    {
     "data": {
      "text/html": [
       "<div>\n",
       "<style scoped>\n",
       "    .dataframe tbody tr th:only-of-type {\n",
       "        vertical-align: middle;\n",
       "    }\n",
       "\n",
       "    .dataframe tbody tr th {\n",
       "        vertical-align: top;\n",
       "    }\n",
       "\n",
       "    .dataframe thead th {\n",
       "        text-align: right;\n",
       "    }\n",
       "</style>\n",
       "<table border=\"1\" class=\"dataframe\">\n",
       "  <thead>\n",
       "    <tr style=\"text-align: right;\">\n",
       "      <th></th>\n",
       "      <th>longitude</th>\n",
       "      <th>latitude</th>\n",
       "      <th>total_rooms</th>\n",
       "      <th>total_bedrooms</th>\n",
       "      <th>population</th>\n",
       "      <th>households</th>\n",
       "      <th>median_income</th>\n",
       "      <th>median_house_value</th>\n",
       "      <th>rooms_per_person</th>\n",
       "    </tr>\n",
       "    <tr>\n",
       "      <th>housing_median_age</th>\n",
       "      <th></th>\n",
       "      <th></th>\n",
       "      <th></th>\n",
       "      <th></th>\n",
       "      <th></th>\n",
       "      <th></th>\n",
       "      <th></th>\n",
       "      <th></th>\n",
       "      <th></th>\n",
       "    </tr>\n",
       "  </thead>\n",
       "  <tbody>\n",
       "    <tr>\n",
       "      <th>11.0</th>\n",
       "      <td>-115.510</td>\n",
       "      <td>32.6800</td>\n",
       "      <td>2872.0</td>\n",
       "      <td>610.0</td>\n",
       "      <td>2644.0</td>\n",
       "      <td>581.0</td>\n",
       "      <td>2.625000</td>\n",
       "      <td>72700.0</td>\n",
       "      <td>1.086233</td>\n",
       "    </tr>\n",
       "    <tr>\n",
       "      <th>13.0</th>\n",
       "      <td>-115.500</td>\n",
       "      <td>32.7500</td>\n",
       "      <td>330.0</td>\n",
       "      <td>72.0</td>\n",
       "      <td>822.0</td>\n",
       "      <td>64.0</td>\n",
       "      <td>3.410700</td>\n",
       "      <td>142500.0</td>\n",
       "      <td>0.401460</td>\n",
       "    </tr>\n",
       "    <tr>\n",
       "      <th>14.0</th>\n",
       "      <td>-114.970</td>\n",
       "      <td>33.2300</td>\n",
       "      <td>1388.5</td>\n",
       "      <td>303.5</td>\n",
       "      <td>691.0</td>\n",
       "      <td>243.5</td>\n",
       "      <td>2.564600</td>\n",
       "      <td>77150.0</td>\n",
       "      <td>2.193152</td>\n",
       "    </tr>\n",
       "    <tr>\n",
       "      <th>15.0</th>\n",
       "      <td>-114.850</td>\n",
       "      <td>33.3625</td>\n",
       "      <td>2779.5</td>\n",
       "      <td>614.0</td>\n",
       "      <td>1049.5</td>\n",
       "      <td>361.5</td>\n",
       "      <td>1.973425</td>\n",
       "      <td>68600.0</td>\n",
       "      <td>3.345913</td>\n",
       "    </tr>\n",
       "    <tr>\n",
       "      <th>16.0</th>\n",
       "      <td>-114.995</td>\n",
       "      <td>33.1900</td>\n",
       "      <td>2438.5</td>\n",
       "      <td>498.5</td>\n",
       "      <td>1457.5</td>\n",
       "      <td>504.5</td>\n",
       "      <td>4.467750</td>\n",
       "      <td>116400.0</td>\n",
       "      <td>1.949361</td>\n",
       "    </tr>\n",
       "  </tbody>\n",
       "</table>\n",
       "</div>"
      ],
      "text/plain": [
       "                    longitude  latitude  total_rooms  total_bedrooms  \\\n",
       "housing_median_age                                                     \n",
       "11.0                 -115.510   32.6800       2872.0           610.0   \n",
       "13.0                 -115.500   32.7500        330.0            72.0   \n",
       "14.0                 -114.970   33.2300       1388.5           303.5   \n",
       "15.0                 -114.850   33.3625       2779.5           614.0   \n",
       "16.0                 -114.995   33.1900       2438.5           498.5   \n",
       "\n",
       "                    population  households  median_income  median_house_value  \\\n",
       "housing_median_age                                                              \n",
       "11.0                    2644.0       581.0       2.625000             72700.0   \n",
       "13.0                     822.0        64.0       3.410700            142500.0   \n",
       "14.0                     691.0       243.5       2.564600             77150.0   \n",
       "15.0                    1049.5       361.5       1.973425             68600.0   \n",
       "16.0                    1457.5       504.5       4.467750            116400.0   \n",
       "\n",
       "                    rooms_per_person  \n",
       "housing_median_age                    \n",
       "11.0                        1.086233  \n",
       "13.0                        0.401460  \n",
       "14.0                        2.193152  \n",
       "15.0                        3.345913  \n",
       "16.0                        1.949361  "
      ]
     },
     "execution_count": 16,
     "metadata": {},
     "output_type": "execute_result"
    }
   ],
   "source": [
    "housing_df.groupby(['housing_median_age']).mean().head(PRINT_LIMIT)"
   ]
  },
  {
   "cell_type": "markdown",
   "metadata": {},
   "source": [
    "## 4.1 Moving averages with panda df\n",
    "Otherwise we may change the dataset representation by preparing the moving average to smooth possible divagations of variable variability."
   ]
  },
  {
   "cell_type": "code",
   "execution_count": 17,
   "metadata": {},
   "outputs": [
    {
     "data": {
      "text/html": [
       "<div>\n",
       "<style scoped>\n",
       "    .dataframe tbody tr th:only-of-type {\n",
       "        vertical-align: middle;\n",
       "    }\n",
       "\n",
       "    .dataframe tbody tr th {\n",
       "        vertical-align: top;\n",
       "    }\n",
       "\n",
       "    .dataframe thead th {\n",
       "        text-align: right;\n",
       "    }\n",
       "</style>\n",
       "<table border=\"1\" class=\"dataframe\">\n",
       "  <thead>\n",
       "    <tr style=\"text-align: right;\">\n",
       "      <th></th>\n",
       "      <th>longitude</th>\n",
       "      <th>latitude</th>\n",
       "      <th>housing_median_age</th>\n",
       "      <th>total_rooms</th>\n",
       "      <th>total_bedrooms</th>\n",
       "      <th>population</th>\n",
       "      <th>households</th>\n",
       "      <th>median_income</th>\n",
       "      <th>median_house_value</th>\n",
       "      <th>rooms_per_person</th>\n",
       "      <th>h_m_age_rolling</th>\n",
       "    </tr>\n",
       "  </thead>\n",
       "  <tbody>\n",
       "    <tr>\n",
       "      <th>49</th>\n",
       "      <td>-115.51</td>\n",
       "      <td>32.68</td>\n",
       "      <td>11.0</td>\n",
       "      <td>2872.0</td>\n",
       "      <td>610.0</td>\n",
       "      <td>2644.0</td>\n",
       "      <td>581.0</td>\n",
       "      <td>2.6250</td>\n",
       "      <td>72700.0</td>\n",
       "      <td>1.086233</td>\n",
       "      <td>11.000000</td>\n",
       "    </tr>\n",
       "    <tr>\n",
       "      <th>43</th>\n",
       "      <td>-115.50</td>\n",
       "      <td>32.75</td>\n",
       "      <td>13.0</td>\n",
       "      <td>330.0</td>\n",
       "      <td>72.0</td>\n",
       "      <td>822.0</td>\n",
       "      <td>64.0</td>\n",
       "      <td>3.4107</td>\n",
       "      <td>142500.0</td>\n",
       "      <td>0.401460</td>\n",
       "      <td>12.000000</td>\n",
       "    </tr>\n",
       "    <tr>\n",
       "      <th>3</th>\n",
       "      <td>-114.57</td>\n",
       "      <td>33.64</td>\n",
       "      <td>14.0</td>\n",
       "      <td>1501.0</td>\n",
       "      <td>337.0</td>\n",
       "      <td>515.0</td>\n",
       "      <td>226.0</td>\n",
       "      <td>3.1917</td>\n",
       "      <td>73400.0</td>\n",
       "      <td>2.914563</td>\n",
       "      <td>12.666667</td>\n",
       "    </tr>\n",
       "    <tr>\n",
       "      <th>27</th>\n",
       "      <td>-115.37</td>\n",
       "      <td>32.82</td>\n",
       "      <td>14.0</td>\n",
       "      <td>1276.0</td>\n",
       "      <td>270.0</td>\n",
       "      <td>867.0</td>\n",
       "      <td>261.0</td>\n",
       "      <td>1.9375</td>\n",
       "      <td>80900.0</td>\n",
       "      <td>1.471742</td>\n",
       "      <td>13.000000</td>\n",
       "    </tr>\n",
       "    <tr>\n",
       "      <th>38</th>\n",
       "      <td>-115.48</td>\n",
       "      <td>32.68</td>\n",
       "      <td>15.0</td>\n",
       "      <td>3414.0</td>\n",
       "      <td>666.0</td>\n",
       "      <td>2097.0</td>\n",
       "      <td>622.0</td>\n",
       "      <td>2.3319</td>\n",
       "      <td>91200.0</td>\n",
       "      <td>1.628040</td>\n",
       "      <td>13.400000</td>\n",
       "    </tr>\n",
       "  </tbody>\n",
       "</table>\n",
       "</div>"
      ],
      "text/plain": [
       "    longitude  latitude  housing_median_age  total_rooms  total_bedrooms  \\\n",
       "49    -115.51     32.68                11.0       2872.0           610.0   \n",
       "43    -115.50     32.75                13.0        330.0            72.0   \n",
       "3     -114.57     33.64                14.0       1501.0           337.0   \n",
       "27    -115.37     32.82                14.0       1276.0           270.0   \n",
       "38    -115.48     32.68                15.0       3414.0           666.0   \n",
       "\n",
       "    population  households  median_income  median_house_value  \\\n",
       "49      2644.0       581.0         2.6250             72700.0   \n",
       "43       822.0        64.0         3.4107            142500.0   \n",
       "3        515.0       226.0         3.1917             73400.0   \n",
       "27       867.0       261.0         1.9375             80900.0   \n",
       "38      2097.0       622.0         2.3319             91200.0   \n",
       "\n",
       "    rooms_per_person  h_m_age_rolling  \n",
       "49          1.086233        11.000000  \n",
       "43          0.401460        12.000000  \n",
       "3           2.914563        12.666667  \n",
       "27          1.471742        13.000000  \n",
       "38          1.628040        13.400000  "
      ]
     },
     "execution_count": 17,
     "metadata": {},
     "output_type": "execute_result"
    }
   ],
   "source": [
    "#remove sorting\n",
    "housing_df_sorted = housing_df.sort_values('housing_median_age')\n",
    "housing_df_sorted['h_m_age_rolling'] = housing_df_sorted['housing_median_age'].rolling(5, min_periods=1).mean()\n",
    "housing_df_sorted.head(PRINT_LIMIT)"
   ]
  },
  {
   "cell_type": "markdown",
   "metadata": {},
   "source": [
    "#  5. Embedding"
   ]
  },
  {
   "cell_type": "code",
   "execution_count": 37,
   "metadata": {},
   "outputs": [
    {
     "data": {
      "text/plain": [
       "<tf.Tensor: id=676340, shape=(50, 50), dtype=float32, numpy=\n",
       "array([[0., 0., 0., ..., 0., 0., 0.],\n",
       "       [0., 0., 0., ..., 0., 0., 0.],\n",
       "       [0., 0., 0., ..., 0., 0., 0.],\n",
       "       ...,\n",
       "       [0., 0., 0., ..., 0., 1., 0.],\n",
       "       [0., 0., 0., ..., 0., 0., 0.],\n",
       "       [0., 0., 0., ..., 0., 0., 0.]], dtype=float32)>"
      ]
     },
     "execution_count": 37,
     "metadata": {},
     "output_type": "execute_result"
    }
   ],
   "source": [
    "#todo explain the size of 50 vs 10\n",
    "longitude_bucket_feature_column = tf.feature_column.bucketized_column(\n",
    "    tf.feature_column.numeric_column('longitude'),\n",
    "    boundaries=get_quantile_based_boundaries(housing_df['longitude'], 10))\n",
    "\n",
    "latitude_bucket_feature_column = tf.feature_column.bucketized_column(\n",
    "    tf.feature_column.numeric_column('latitude'),\n",
    "    boundaries=get_quantile_based_boundaries(housing_df['latitude'], 10))\n",
    "\n",
    "crossed_lat_lon_feature_column = tf.feature_column.crossed_column(\n",
    "    [longitude_bucket_feature_column, latitude_bucket_feature_column], 50)\n",
    "crossed_column=tf.feature_column.indicator_column(crossed_lat_lon_feature_column)\n",
    "\n",
    "features = {'longitude': tf.convert_to_tensor(housing_df['longitude']), 'latitude': tf.convert_to_tensor(housing_df['latitude'])}\n",
    "feature_columns=[crossed_column]\n",
    "tf.feature_column.input_layer(features,feature_columns)\n",
    "\n"
   ]
  },
  {
   "cell_type": "code",
   "execution_count": 44,
   "metadata": {},
   "outputs": [],
   "source": [
    "tf.feature_column.embedding_column?"
   ]
  },
  {
   "cell_type": "code",
   "execution_count": 43,
   "metadata": {},
   "outputs": [
    {
     "data": {
      "text/plain": [
       "<tf.Tensor: id=676506, shape=(50, 2), dtype=float32, numpy=\n",
       "array([[-0.28382728, -0.9954882 ],\n",
       "       [-0.28382728, -0.9954882 ],\n",
       "       [-0.8659777 ,  0.6962262 ],\n",
       "       [-0.8659777 ,  0.6962262 ],\n",
       "       [ 1.128213  ,  1.079707  ],\n",
       "       [ 0.57155997, -0.5696626 ],\n",
       "       [ 0.57155997, -0.5696626 ],\n",
       "       [ 1.3986611 ,  0.10775558],\n",
       "       [ 0.57155997, -0.5696626 ],\n",
       "       [ 1.3986611 ,  0.10775558],\n",
       "       [ 0.57155997, -0.5696626 ],\n",
       "       [-0.2195396 , -0.0300738 ],\n",
       "       [-0.7190235 ,  0.5456405 ],\n",
       "       [-0.7190235 ,  0.5456405 ],\n",
       "       [ 0.7101313 , -0.4843057 ],\n",
       "       [-0.39104095, -0.7717898 ],\n",
       "       [-1.2530358 , -0.8840195 ],\n",
       "       [ 0.5685266 ,  0.07671908],\n",
       "       [ 0.7101313 , -0.4843057 ],\n",
       "       [ 0.8410929 ,  0.05110145],\n",
       "       [-0.11721187,  0.34868038],\n",
       "       [-0.11721187,  0.34868038],\n",
       "       [-0.23071143,  0.9685849 ],\n",
       "       [-0.23071143,  0.9685849 ],\n",
       "       [ 0.57155997, -0.5696626 ],\n",
       "       [-1.3116764 ,  0.34255844],\n",
       "       [-1.3116764 ,  0.34255844],\n",
       "       [-1.3116764 ,  0.34255844],\n",
       "       [ 0.79087883,  0.33830076],\n",
       "       [ 0.79087883,  0.33830076],\n",
       "       [ 0.065827  , -1.4138893 ],\n",
       "       [-0.8659777 ,  0.6962262 ],\n",
       "       [-0.25600696, -0.69886935],\n",
       "       [ 0.065827  , -1.4138893 ],\n",
       "       [-1.2530358 , -0.8840195 ],\n",
       "       [-0.912129  ,  0.14485146],\n",
       "       [ 1.128213  ,  1.079707  ],\n",
       "       [ 0.00180605,  0.43944275],\n",
       "       [ 1.0962523 , -0.3224986 ],\n",
       "       [-0.912129  ,  0.14485146],\n",
       "       [ 1.0962523 , -0.3224986 ],\n",
       "       [ 0.00180605,  0.43944275],\n",
       "       [ 0.00180605,  0.43944275],\n",
       "       [ 0.00180605,  0.43944275],\n",
       "       [ 0.00180605,  0.43944275],\n",
       "       [ 0.57155997, -0.5696626 ],\n",
       "       [-0.57392895, -0.67867166],\n",
       "       [-0.57392895, -0.67867166],\n",
       "       [ 0.79087883,  0.33830076],\n",
       "       [-0.39104095, -0.7717898 ]], dtype=float32)>"
      ]
     },
     "execution_count": 43,
     "metadata": {},
     "output_type": "execute_result"
    }
   ],
   "source": [
    "#\n",
    "tf.tables_initializer()\n",
    "\n",
    "#todo explain the size of 50 vs 10\n",
    "longitude_bucket_feature_column = tf.feature_column.bucketized_column(\n",
    "    tf.feature_column.numeric_column('longitude'),\n",
    "    boundaries=get_quantile_based_boundaries(housing_df['longitude'], 10))\n",
    "\n",
    "latitude_bucket_feature_column = tf.feature_column.bucketized_column(\n",
    "    tf.feature_column.numeric_column('latitude'),\n",
    "    boundaries=get_quantile_based_boundaries(housing_df['latitude'], 10))\n",
    "\n",
    "crossed_column = tf.feature_column.crossed_column(\n",
    "    [longitude_bucket_feature_column, latitude_bucket_feature_column], 50)\n",
    "\n",
    "embedding_dimensions=int(50**0.25)\n",
    "\n",
    "# Represent the categorical column as an embedding column.\n",
    "# This means creating an embedding vector lookup table with one element for each category.\n",
    "embedding_column = tf.feature_column.embedding_column(\n",
    "    categorical_column=crossed_column,\n",
    "    dimension=embedding_dimensions)\n",
    "\n",
    "features = {'longitude': tf.convert_to_tensor(housing_df['longitude']), 'latitude': tf.convert_to_tensor(housing_df['latitude'])}\n",
    "feature_columns=[embedding_column]\n",
    "tf.feature_column.input_layer(features,feature_columns)"
   ]
  },
  {
   "cell_type": "code",
   "execution_count": 40,
   "metadata": {},
   "outputs": [
    {
     "data": {
      "text/plain": [
       "EmbeddingColumn(categorical_column=IndicatorColumn(categorical_column=CrossedColumn(keys=(BucketizedColumn(source_column=NumericColumn(key='longitude', shape=(1,), default_value=None, dtype=tf.float32, normalizer_fn=None), boundaries=(-115.5, -115.49, -115.40299999999999, -115.374, -115.27, -114.676, -114.644, -114.6, -114.579)), BucketizedColumn(source_column=NumericColumn(key='latitude', shape=(1,), default_value=None, dtype=tf.float32, normalizer_fn=None), boundaries=(32.68, 32.758, 32.81, 32.82, 33.055, 33.51, 33.61, 33.716, 34.577999999999996))), hash_bucket_size=50, hash_key=None)), dimension=2, combiner='mean', initializer=<tensorflow.python.ops.init_ops.TruncatedNormal object at 0x1a25395780>, ckpt_to_load_from=None, tensor_name_in_ckpt=None, max_norm=None, trainable=True)"
      ]
     },
     "execution_count": 40,
     "metadata": {},
     "output_type": "execute_result"
    }
   ],
   "source": [
    "embedding_column"
   ]
  },
  {
   "cell_type": "code",
   "execution_count": 18,
   "metadata": {},
   "outputs": [
    {
     "data": {
      "text/html": [
       "<div>\n",
       "<style scoped>\n",
       "    .dataframe tbody tr th:only-of-type {\n",
       "        vertical-align: middle;\n",
       "    }\n",
       "\n",
       "    .dataframe tbody tr th {\n",
       "        vertical-align: top;\n",
       "    }\n",
       "\n",
       "    .dataframe thead th {\n",
       "        text-align: right;\n",
       "    }\n",
       "</style>\n",
       "<table border=\"1\" class=\"dataframe\">\n",
       "  <thead>\n",
       "    <tr style=\"text-align: right;\">\n",
       "      <th></th>\n",
       "      <th>1</th>\n",
       "      <th>2</th>\n",
       "      <th>3</th>\n",
       "      <th>4</th>\n",
       "      <th>5</th>\n",
       "      <th>6</th>\n",
       "      <th>7</th>\n",
       "      <th>8</th>\n",
       "      <th>9</th>\n",
       "      <th>10</th>\n",
       "      <th>...</th>\n",
       "      <th>41</th>\n",
       "      <th>42</th>\n",
       "      <th>43</th>\n",
       "      <th>44</th>\n",
       "      <th>45</th>\n",
       "      <th>46</th>\n",
       "      <th>47</th>\n",
       "      <th>48</th>\n",
       "      <th>49</th>\n",
       "      <th>50</th>\n",
       "    </tr>\n",
       "    <tr>\n",
       "      <th>0</th>\n",
       "      <th></th>\n",
       "      <th></th>\n",
       "      <th></th>\n",
       "      <th></th>\n",
       "      <th></th>\n",
       "      <th></th>\n",
       "      <th></th>\n",
       "      <th></th>\n",
       "      <th></th>\n",
       "      <th></th>\n",
       "      <th></th>\n",
       "      <th></th>\n",
       "      <th></th>\n",
       "      <th></th>\n",
       "      <th></th>\n",
       "      <th></th>\n",
       "      <th></th>\n",
       "      <th></th>\n",
       "      <th></th>\n",
       "      <th></th>\n",
       "      <th></th>\n",
       "    </tr>\n",
       "  </thead>\n",
       "  <tbody>\n",
       "    <tr>\n",
       "      <th>the</th>\n",
       "      <td>0.41800</td>\n",
       "      <td>0.249680</td>\n",
       "      <td>-0.41242</td>\n",
       "      <td>0.121700</td>\n",
       "      <td>0.345270</td>\n",
       "      <td>-0.044457</td>\n",
       "      <td>-0.49688</td>\n",
       "      <td>-0.178620</td>\n",
       "      <td>-0.000660</td>\n",
       "      <td>-0.656600</td>\n",
       "      <td>...</td>\n",
       "      <td>-0.298710</td>\n",
       "      <td>-0.157490</td>\n",
       "      <td>-0.347580</td>\n",
       "      <td>-0.045637</td>\n",
       "      <td>-0.44251</td>\n",
       "      <td>0.187850</td>\n",
       "      <td>0.002785</td>\n",
       "      <td>-0.184110</td>\n",
       "      <td>-0.115140</td>\n",
       "      <td>-0.78581</td>\n",
       "    </tr>\n",
       "    <tr>\n",
       "      <th>of</th>\n",
       "      <td>0.70853</td>\n",
       "      <td>0.570880</td>\n",
       "      <td>-0.47160</td>\n",
       "      <td>0.180480</td>\n",
       "      <td>0.544490</td>\n",
       "      <td>0.726030</td>\n",
       "      <td>0.18157</td>\n",
       "      <td>-0.523930</td>\n",
       "      <td>0.103810</td>\n",
       "      <td>-0.175660</td>\n",
       "      <td>...</td>\n",
       "      <td>-0.347270</td>\n",
       "      <td>0.284830</td>\n",
       "      <td>0.075693</td>\n",
       "      <td>-0.062178</td>\n",
       "      <td>-0.38988</td>\n",
       "      <td>0.229020</td>\n",
       "      <td>-0.216170</td>\n",
       "      <td>-0.225620</td>\n",
       "      <td>-0.093918</td>\n",
       "      <td>-0.80375</td>\n",
       "    </tr>\n",
       "    <tr>\n",
       "      <th>to</th>\n",
       "      <td>0.68047</td>\n",
       "      <td>-0.039263</td>\n",
       "      <td>0.30186</td>\n",
       "      <td>-0.177920</td>\n",
       "      <td>0.429620</td>\n",
       "      <td>0.032246</td>\n",
       "      <td>-0.41376</td>\n",
       "      <td>0.132280</td>\n",
       "      <td>-0.298470</td>\n",
       "      <td>-0.085253</td>\n",
       "      <td>...</td>\n",
       "      <td>-0.094375</td>\n",
       "      <td>0.018324</td>\n",
       "      <td>0.210480</td>\n",
       "      <td>-0.030880</td>\n",
       "      <td>-0.19722</td>\n",
       "      <td>0.082279</td>\n",
       "      <td>-0.094340</td>\n",
       "      <td>-0.073297</td>\n",
       "      <td>-0.064699</td>\n",
       "      <td>-0.26044</td>\n",
       "    </tr>\n",
       "    <tr>\n",
       "      <th>and</th>\n",
       "      <td>0.26818</td>\n",
       "      <td>0.143460</td>\n",
       "      <td>-0.27877</td>\n",
       "      <td>0.016257</td>\n",
       "      <td>0.113840</td>\n",
       "      <td>0.699230</td>\n",
       "      <td>-0.51332</td>\n",
       "      <td>-0.473680</td>\n",
       "      <td>-0.330750</td>\n",
       "      <td>-0.138340</td>\n",
       "      <td>...</td>\n",
       "      <td>-0.069043</td>\n",
       "      <td>0.368850</td>\n",
       "      <td>0.251680</td>\n",
       "      <td>-0.245170</td>\n",
       "      <td>0.25381</td>\n",
       "      <td>0.136700</td>\n",
       "      <td>-0.311780</td>\n",
       "      <td>-0.632100</td>\n",
       "      <td>-0.250280</td>\n",
       "      <td>-0.38097</td>\n",
       "    </tr>\n",
       "    <tr>\n",
       "      <th>in</th>\n",
       "      <td>0.33042</td>\n",
       "      <td>0.249950</td>\n",
       "      <td>-0.60874</td>\n",
       "      <td>0.109230</td>\n",
       "      <td>0.036372</td>\n",
       "      <td>0.151000</td>\n",
       "      <td>-0.55083</td>\n",
       "      <td>-0.074239</td>\n",
       "      <td>-0.092307</td>\n",
       "      <td>-0.328210</td>\n",
       "      <td>...</td>\n",
       "      <td>-0.486090</td>\n",
       "      <td>-0.008027</td>\n",
       "      <td>0.031184</td>\n",
       "      <td>-0.365760</td>\n",
       "      <td>-0.42699</td>\n",
       "      <td>0.421640</td>\n",
       "      <td>-0.116660</td>\n",
       "      <td>-0.507030</td>\n",
       "      <td>-0.027273</td>\n",
       "      <td>-0.53285</td>\n",
       "    </tr>\n",
       "  </tbody>\n",
       "</table>\n",
       "<p>5 rows × 50 columns</p>\n",
       "</div>"
      ],
      "text/plain": [
       "          1         2        3         4         5         6        7   \\\n",
       "0                                                                        \n",
       "the  0.41800  0.249680 -0.41242  0.121700  0.345270 -0.044457 -0.49688   \n",
       "of   0.70853  0.570880 -0.47160  0.180480  0.544490  0.726030  0.18157   \n",
       "to   0.68047 -0.039263  0.30186 -0.177920  0.429620  0.032246 -0.41376   \n",
       "and  0.26818  0.143460 -0.27877  0.016257  0.113840  0.699230 -0.51332   \n",
       "in   0.33042  0.249950 -0.60874  0.109230  0.036372  0.151000 -0.55083   \n",
       "\n",
       "           8         9         10  ...        41        42        43  \\\n",
       "0                                  ...                                 \n",
       "the -0.178620 -0.000660 -0.656600  ... -0.298710 -0.157490 -0.347580   \n",
       "of  -0.523930  0.103810 -0.175660  ... -0.347270  0.284830  0.075693   \n",
       "to   0.132280 -0.298470 -0.085253  ... -0.094375  0.018324  0.210480   \n",
       "and -0.473680 -0.330750 -0.138340  ... -0.069043  0.368850  0.251680   \n",
       "in  -0.074239 -0.092307 -0.328210  ... -0.486090 -0.008027  0.031184   \n",
       "\n",
       "           44       45        46        47        48        49       50  \n",
       "0                                                                        \n",
       "the -0.045637 -0.44251  0.187850  0.002785 -0.184110 -0.115140 -0.78581  \n",
       "of  -0.062178 -0.38988  0.229020 -0.216170 -0.225620 -0.093918 -0.80375  \n",
       "to  -0.030880 -0.19722  0.082279 -0.094340 -0.073297 -0.064699 -0.26044  \n",
       "and -0.245170  0.25381  0.136700 -0.311780 -0.632100 -0.250280 -0.38097  \n",
       "in  -0.365760 -0.42699  0.421640 -0.116660 -0.507030 -0.027273 -0.53285  \n",
       "\n",
       "[5 rows x 50 columns]"
      ]
     },
     "execution_count": 18,
     "metadata": {},
     "output_type": "execute_result"
    }
   ],
   "source": [
    "#embedding column input from high dimention mapped to lower space\n",
    "# right after crossing on crossing data to map to lower\n",
    "\n",
    "# Using part of GloVe project vector data (dimension = 50)\n",
    "\n",
    "vector_data = pd.read_csv('vectors.txt', sep=' ', header=None, index_col=0)\n",
    "vector_data.head()"
   ]
  },
  {
   "cell_type": "code",
   "execution_count": 19,
   "metadata": {},
   "outputs": [
    {
     "data": {
      "text/plain": [
       "['the', 'of', 'to', 'and', 'in']"
      ]
     },
     "execution_count": 19,
     "metadata": {},
     "output_type": "execute_result"
    }
   ],
   "source": [
    "# Gather vocabulary from the predefined vectors\n",
    "vocab = list(vector_data.index)\n",
    "vocab[:PRINT_LIMIT]"
   ]
  },
  {
   "cell_type": "code",
   "execution_count": 20,
   "metadata": {},
   "outputs": [],
   "source": [
    "input_str = 'he said it first'"
   ]
  },
  {
   "cell_type": "code",
   "execution_count": 21,
   "metadata": {},
   "outputs": [
    {
     "data": {
      "text/plain": [
       "OrderedDict([('he', 13), ('said', 11), ('it', 15), ('first', 47)])"
      ]
     },
     "execution_count": 21,
     "metadata": {},
     "output_type": "execute_result"
    }
   ],
   "source": [
    "# Words index based on the vocabulary\n",
    "word_to_idx = OrderedDict({w:vocab.index(w) for w in input_str.split() if w in vocab})\n",
    "word_to_idx"
   ]
  },
  {
   "cell_type": "code",
   "execution_count": 22,
   "metadata": {},
   "outputs": [],
   "source": [
    "# Embedding as TF tensor\n",
    "tf_embedding = tf.constant(vector_data.values, dtype=tf.float32)"
   ]
  },
  {
   "cell_type": "code",
   "execution_count": 23,
   "metadata": {},
   "outputs": [
    {
     "data": {
      "text/plain": [
       "array([[-0.20092  , -0.060271 , -0.61766  , -0.8444   ,  0.5781   ,\n",
       "         0.14671  , -0.86098  ,  0.6705   , -0.86556  , -0.18234  ,\n",
       "         0.15856  ,  0.45814  , -1.0163   , -0.35874  ,  0.73869  ,\n",
       "        -0.24048  , -0.33893  ,  0.25742  , -0.78192  ,  0.083528 ,\n",
       "         0.1775   ,  0.91773  ,  0.64531  , -0.19896  ,  0.37416  ,\n",
       "        -2.7525   , -0.091586 ,  0.040349 , -0.064792 , -0.31466  ,\n",
       "         3.3944   ,  0.044941 , -0.55038  , -0.65334  ,  0.10436  ,\n",
       "         0.016394 ,  0.24388  ,  1.0085   ,  0.31412  , -0.33806  ,\n",
       "        -0.16925  ,  0.10228  , -0.62143  ,  0.19829  , -0.36147  ,\n",
       "        -0.24769  , -0.38989  , -0.33317  , -0.041659 , -0.013171 ],\n",
       "       [ 0.38973  , -0.2121   ,  0.51837  ,  0.80136  ,  1.0336   ,\n",
       "        -0.27784  , -0.84525  , -0.25333  ,  0.12586  , -0.90342  ,\n",
       "         0.24975  ,  0.22022  , -1.2053   , -0.53771  ,  1.0446   ,\n",
       "         0.62778  ,  0.39704  , -0.15812  ,  0.38102  , -0.54674  ,\n",
       "        -0.44009  ,  1.0976   ,  0.013069 , -0.89971  ,  0.41226  ,\n",
       "        -2.2309   ,  0.28997  ,  0.32175  , -0.72738  , -0.092244 ,\n",
       "         3.028    , -0.062599 ,  0.038329 ,  0.0072918, -0.35388  ,\n",
       "        -0.92256  ,  0.097932 ,  0.10068  ,  1.2116   ,  0.88233  ,\n",
       "        -0.46297  ,  1.3186   ,  0.32705  , -0.73446  ,  0.89301  ,\n",
       "        -0.45324  , -1.2698   ,  0.86119  ,  0.1415   ,  1.2018   ],\n",
       "       [ 0.61183  , -0.22072  , -0.10898  , -0.052967 ,  0.50804  ,\n",
       "         0.34684  , -0.33558  , -0.19152  , -0.035865 ,  0.1051   ,\n",
       "         0.07935  ,  0.2449   , -0.4373   , -0.33344  ,  0.57479  ,\n",
       "         0.69052  ,  0.29713  ,  0.090669 , -0.54992  , -0.46176  ,\n",
       "         0.10113  , -0.02024  ,  0.28479  ,  0.043512 ,  0.45735  ,\n",
       "        -2.0466   , -0.58084  ,  0.61797  ,  0.6518   , -0.58263  ,\n",
       "         4.0786   , -0.2542   , -0.14649  , -0.34321  , -0.25437  ,\n",
       "        -0.44677  ,  0.12657  ,  0.28134  ,  0.13331  , -0.36974  ,\n",
       "         0.050059 , -0.10058  , -0.017907 ,  0.11142  , -0.71798  ,\n",
       "         0.491    , -0.099974 , -0.043688 , -0.097922 ,  0.16806  ],\n",
       "       [-0.14168  ,  0.41108  , -0.31227  ,  0.16633  ,  0.26124  ,\n",
       "         0.45708  , -1.2001   ,  0.014923 , -0.22779  , -0.16937  ,\n",
       "         0.34633  , -0.12419  , -0.65711  ,  0.29226  ,  0.62407  ,\n",
       "        -0.57916  , -0.33947  , -0.22046  , -1.4832   ,  0.28958  ,\n",
       "         0.081396 , -0.21696  ,  0.0056613, -0.054199 ,  0.098504 ,\n",
       "        -1.5874   , -0.22867  , -0.62957  , -0.39542  , -0.080841 ,\n",
       "         3.5949   , -0.16872  , -0.39024  ,  0.026912 ,  0.52646  ,\n",
       "        -0.022844 ,  0.63289  ,  0.62702  , -0.22171  , -0.45045  ,\n",
       "        -0.14998  , -0.27723  , -0.46658  , -0.44268  , -0.43691  ,\n",
       "         0.38455  ,  0.1369   , -0.25424  ,  0.017821 , -0.1489   ]],\n",
       "      dtype=float32)"
      ]
     },
     "execution_count": 23,
     "metadata": {},
     "output_type": "execute_result"
    }
   ],
   "source": [
    "# Result of embedding lookup\n",
    "tf.nn.embedding_lookup(tf_embedding, list(word_to_idx.values())).numpy()[:PRINT_LIMIT]"
   ]
  },
  {
   "cell_type": "code",
   "execution_count": 24,
   "metadata": {},
   "outputs": [],
   "source": [
    "#todo imdb example"
   ]
  },
  {
   "cell_type": "markdown",
   "metadata": {},
   "source": [
    "# 6. simple model improved after feature engineering.\n",
    "Let's make some tests with our processed data. Does the feature processing actually improves the prediction?\n",
    "\n",
    "First we need to define a really simple linear regression using Tensorflow."
   ]
  },
  {
   "cell_type": "code",
   "execution_count": 25,
   "metadata": {},
   "outputs": [],
   "source": [
    "# estimator\n",
    "# Definition of linear equation\n",
    "a = tfe.Variable(np.random.randn())\n",
    "b = tfe.Variable(np.random.randn())\n",
    "\n",
    "def linear_regression(inputs):\n",
    "    return inputs * a + b"
   ]
  },
  {
   "cell_type": "code",
   "execution_count": 26,
   "metadata": {},
   "outputs": [],
   "source": [
    "# Regression objective as minimization of error\n",
    "def mean_square_fn(model_fn, inputs, labels):\n",
    "    n_samples = int(tf.size(labels))\n",
    "    return tf.reduce_sum(tf.pow(model_fn(inputs) - labels, 2)) / (2 * n_samples)"
   ]
  },
  {
   "cell_type": "code",
   "execution_count": 27,
   "metadata": {},
   "outputs": [],
   "source": [
    "# Training optimizer\n",
    "optimizer = tf.train.GradientDescentOptimizer(learning_rate=LEARNING_RATE)\n",
    "grad = tfe.implicit_gradients(mean_square_fn)"
   ]
  },
  {
   "cell_type": "code",
   "execution_count": 28,
   "metadata": {},
   "outputs": [],
   "source": [
    "# Main regression routine\n",
    "def make_regression(x, y):\n",
    "    for step in range(NUM_STEPS):\n",
    "        optimizer.apply_gradients(grad(linear_regression, x, y))\n",
    "        if (step + 1) % DISPLAY_STEP == 0 or step == 0:\n",
    "            print(\"Epoch:\", '%04d' % (step + 1), \"cost=\",\n",
    "                  \"{:.9f}\".format(mean_square_fn(linear_regression, x, y)),\n",
    "                  \"a=\", a.numpy(), \"b=\", b.numpy())\n",
    "    return a, b"
   ]
  },
  {
   "cell_type": "code",
   "execution_count": 29,
   "metadata": {},
   "outputs": [],
   "source": [
    "# Plot results\n",
    "def make_plot(x, y):\n",
    "    plt.plot(x, y, 'ro', label='Original')\n",
    "    plt.plot(x, np.array(a * x + b), label='Fitted')\n",
    "    plt.legend()\n",
    "    plt.show()"
   ]
  },
  {
   "cell_type": "markdown",
   "metadata": {},
   "source": [
    "What if we want to estimate median income using the source median housing age?"
   ]
  },
  {
   "cell_type": "code",
   "execution_count": 30,
   "metadata": {},
   "outputs": [
    {
     "name": "stdout",
     "output_type": "stream",
     "text": [
      "Epoch: 0001 cost= 20.170234680 a= -0.14084908 b= -0.60735327\n",
      "Epoch: 0200 cost= 0.947460532 a= 0.10136299 b= -0.5298236\n",
      "Epoch: 0400 cost= 0.924872816 a= 0.098870195 b= -0.46265677\n",
      "Epoch: 0600 cost= 0.903340816 a= 0.09643635 b= -0.3970784\n",
      "Epoch: 0800 cost= 0.882815301 a= 0.09406007 b= -0.33305097\n",
      "Epoch: 1000 cost= 0.863249063 a= 0.09173998 b= -0.27053776\n",
      "Epoch: 1200 cost= 0.844597638 a= 0.089474775 b= -0.20950314\n",
      "Epoch: 1400 cost= 0.826817870 a= 0.087263145 b= -0.14991204\n",
      "Epoch: 1600 cost= 0.809869230 a= 0.08510381 b= -0.09173034\n",
      "Epoch: 1800 cost= 0.793712676 a= 0.08299556 b= -0.034924645\n",
      "Epoch: 2000 cost= 0.778311372 a= 0.080937155 b= 0.020537548\n",
      "Epoch: 2200 cost= 0.763630092 a= 0.07892744 b= 0.07468801\n",
      "Epoch: 2400 cost= 0.749634862 a= 0.076965265 b= 0.12755777\n",
      "Epoch: 2600 cost= 0.736294031 a= 0.07504948 b= 0.17917709\n",
      "Epoch: 2800 cost= 0.723576605 a= 0.07317902 b= 0.22957551\n",
      "Epoch: 3000 cost= 0.711453617 a= 0.071352795 b= 0.2787821\n"
     ]
    },
    {
     "data": {
      "image/png": "[encoded data removed]",
      "text/plain": [
       "<Figure size 432x288 with 1 Axes>"
      ]
     },
     "metadata": {
      "needs_background": "light"
     },
     "output_type": "display_data"
    }
   ],
   "source": [
    "age_net = prepare_feature_numeric_column('housing_median_age')\n",
    "income_net = prepare_feature_numeric_column('median_income')\n",
    "a, b = make_regression(age_net, income_net)\n",
    "make_plot(age_net, income_net)"
   ]
  },
  {
   "cell_type": "markdown",
   "metadata": {},
   "source": [
    "Scaling is also a good try to improve the accuracy, but unfortunately not in this case..."
   ]
  },
  {
   "cell_type": "code",
   "execution_count": 31,
   "metadata": {},
   "outputs": [
    {
     "name": "stdout",
     "output_type": "stream",
     "text": [
      "Epoch: 0001 cost= 2.339301109 a= 0.07124789 b= 0.28071767\n",
      "Epoch: 0200 cost= 1.723419905 a= 0.052291106 b= 0.62980056\n",
      "Epoch: 0400 cost= 1.308138013 a= 0.036623683 b= 0.9171616\n",
      "Epoch: 0600 cost= 1.029814601 a= 0.02374607 b= 1.1524099\n",
      "Epoch: 0800 cost= 0.843282342 a= 0.0131615335 b= 1.3449951\n",
      "Epoch: 1000 cost= 0.718267918 a= 0.0044617536 b= 1.502655\n",
      "Epoch: 1200 cost= 0.634483397 a= -0.0026888868 b= 1.6317222\n",
      "Epoch: 1400 cost= 0.578330398 a= -0.008566235 b= 1.7373837\n",
      "Epoch: 1600 cost= 0.540696800 a= -0.01339702 b= 1.8238828\n",
      "Epoch: 1800 cost= 0.515474379 a= -0.017367601 b= 1.8946959\n",
      "Epoch: 2000 cost= 0.498570353 a= -0.020631172 b= 1.9526668\n",
      "Epoch: 2200 cost= 0.487241387 a= -0.023313593 b= 2.0001237\n",
      "Epoch: 2400 cost= 0.479648471 a= -0.025518367 b= 2.038975\n",
      "Epoch: 2600 cost= 0.474559754 a= -0.027330546 b= 2.070781\n",
      "Epoch: 2800 cost= 0.471149325 a= -0.028820042 b= 2.0968175\n",
      "Epoch: 3000 cost= 0.468863577 a= -0.030044306 b= 2.1181335\n"
     ]
    },
    {
     "data": {
      "image/png": "[encoded data removed]",
      "text/plain": [
       "<Figure size 432x288 with 1 Axes>"
      ]
     },
     "metadata": {
      "needs_background": "light"
     },
     "output_type": "display_data"
    }
   ],
   "source": [
    "a, b = make_regression(net_age_scale, income_net)\n",
    "make_plot(net_age_scale, income_net)"
   ]
  },
  {
   "cell_type": "markdown",
   "metadata": {},
   "source": [
    "Bit of uniformity seems also not impressive in this case."
   ]
  },
  {
   "cell_type": "code",
   "execution_count": 32,
   "metadata": {},
   "outputs": [
    {
     "name": "stdout",
     "output_type": "stream",
     "text": [
      "Epoch: 0001 cost= 0.475187421 a= -0.029784054 b= 2.1182868\n",
      "Epoch: 0200 cost= 0.467562497 a= 0.0010577794 b= 2.139418\n",
      "Epoch: 0400 cost= 0.466446757 a= 0.010067123 b= 2.1507013\n",
      "Epoch: 0600 cost= 0.466131121 a= 0.011498497 b= 2.158404\n",
      "Epoch: 0800 cost= 0.465922207 a= 0.010364664 b= 2.1647508\n",
      "Epoch: 1000 cost= 0.465736777 a= 0.008395983 b= 2.1705115\n",
      "Epoch: 1200 cost= 0.465564042 a= 0.0061886692 b= 2.175958\n",
      "Epoch: 1400 cost= 0.465402305 a= 0.003947119 b= 2.1811867\n",
      "Epoch: 1600 cost= 0.465250552 a= 0.0017404363 b= 2.1862333\n",
      "Epoch: 1800 cost= 0.465108186 a= -0.00040892762 b= 2.1911163\n",
      "Epoch: 2000 cost= 0.464974701 a= -0.002494746 b= 2.195844\n",
      "Epoch: 2200 cost= 0.464849591 a= -0.004516208 b= 2.2004204\n",
      "Epoch: 2400 cost= 0.464732200 a= -0.006474352 b= 2.2048526\n",
      "Epoch: 2600 cost= 0.464622080 a= -0.00837084 b= 2.2091444\n",
      "Epoch: 2800 cost= 0.464518845 a= -0.010207528 b= 2.2132998\n",
      "Epoch: 3000 cost= 0.464422077 a= -0.011986282 b= 2.2173245\n"
     ]
    },
    {
     "data": {
      "image/png": "[encoded data removed]",
      "text/plain": [
       "<Figure size 432x288 with 1 Axes>"
      ]
     },
     "metadata": {
      "needs_background": "light"
     },
     "output_type": "display_data"
    }
   ],
   "source": [
    "a, b = make_regression(bucket_index, income_net)\n",
    "make_plot(bucket_index, income_net)"
   ]
  },
  {
   "cell_type": "code",
   "execution_count": null,
   "metadata": {},
   "outputs": [],
   "source": []
  }
 ],
 "metadata": {
  "kernelspec": {
   "display_name": "Python 3",
   "language": "python",
   "name": "python3"
  },
  "language_info": {
   "codemirror_mode": {
    "name": "ipython",
    "version": 3
   },
   "file_extension": ".py",
   "mimetype": "text/x-python",
   "name": "python",
   "nbconvert_exporter": "python",
   "pygments_lexer": "ipython3",
   "version": "3.6.8"
  }
 },
 "nbformat": 4,
 "nbformat_minor": 2
}
