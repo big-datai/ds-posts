{
 "cells": [
  {
   "cell_type": "markdown",
   "metadata": {},
   "source": [
    "# Data sampling and feature engineering"
   ]
  },
  {
   "cell_type": "code",
   "execution_count": 1,
   "metadata": {},
   "outputs": [],
   "source": [
    "import numpy as np\n",
    "import pandas as pd\n",
    "import tensorflow as tf\n",
    "import matplotlib.pyplot as plt"
   ]
  },
  {
   "cell_type": "code",
   "execution_count": 2,
   "metadata": {},
   "outputs": [],
   "source": [
    "LEARNING_RATE = 0.05\n",
    "DISPLAY_STEP = 100\n",
    "NUM_STEPS = 1000"
   ]
  },
  {
   "cell_type": "code",
   "execution_count": 3,
   "metadata": {},
   "outputs": [
    {
     "name": "stdout",
     "output_type": "stream",
     "text": [
      "\n",
      "WARNING: The TensorFlow contrib module will not be included in TensorFlow 2.0.\n",
      "For more information, please see:\n",
      "  * https://github.com/tensorflow/community/blob/master/rfcs/20180907-contrib-sunset.md\n",
      "  * https://github.com/tensorflow/addons\n",
      "If you depend on functionality not listed there, please file an issue.\n",
      "\n"
     ]
    }
   ],
   "source": [
    "# Immediate execution\n",
    "tf.enable_eager_execution()\n",
    "tfe = tf.contrib.eager"
   ]
  },
  {
   "cell_type": "code",
   "execution_count": 4,
   "metadata": {},
   "outputs": [
    {
     "data": {
      "text/html": [
       "<div>\n",
       "<style scoped>\n",
       "    .dataframe tbody tr th:only-of-type {\n",
       "        vertical-align: middle;\n",
       "    }\n",
       "\n",
       "    .dataframe tbody tr th {\n",
       "        vertical-align: top;\n",
       "    }\n",
       "\n",
       "    .dataframe thead th {\n",
       "        text-align: right;\n",
       "    }\n",
       "</style>\n",
       "<table border=\"1\" class=\"dataframe\">\n",
       "  <thead>\n",
       "    <tr style=\"text-align: right;\">\n",
       "      <th></th>\n",
       "      <th>score</th>\n",
       "      <th>cost</th>\n",
       "    </tr>\n",
       "  </thead>\n",
       "  <tbody>\n",
       "    <tr>\n",
       "      <th>0</th>\n",
       "      <td>1.0</td>\n",
       "      <td>30.0</td>\n",
       "    </tr>\n",
       "    <tr>\n",
       "      <th>1</th>\n",
       "      <td>2.0</td>\n",
       "      <td>90.2</td>\n",
       "    </tr>\n",
       "    <tr>\n",
       "      <th>2</th>\n",
       "      <td>3.0</td>\n",
       "      <td>125.4</td>\n",
       "    </tr>\n",
       "    <tr>\n",
       "      <th>3</th>\n",
       "      <td>4.0</td>\n",
       "      <td>150.4</td>\n",
       "    </tr>\n",
       "    <tr>\n",
       "      <th>4</th>\n",
       "      <td>5.0</td>\n",
       "      <td>169.8</td>\n",
       "    </tr>\n",
       "    <tr>\n",
       "      <th>5</th>\n",
       "      <td>6.0</td>\n",
       "      <td>185.6</td>\n",
       "    </tr>\n",
       "    <tr>\n",
       "      <th>6</th>\n",
       "      <td>7.0</td>\n",
       "      <td>199.0</td>\n",
       "    </tr>\n",
       "    <tr>\n",
       "      <th>7</th>\n",
       "      <td>8.0</td>\n",
       "      <td>210.6</td>\n",
       "    </tr>\n",
       "    <tr>\n",
       "      <th>8</th>\n",
       "      <td>9.0</td>\n",
       "      <td>220.8</td>\n",
       "    </tr>\n",
       "    <tr>\n",
       "      <th>9</th>\n",
       "      <td>10.0</td>\n",
       "      <td>230.0</td>\n",
       "    </tr>\n",
       "  </tbody>\n",
       "</table>\n",
       "</div>"
      ],
      "text/plain": [
       "   score   cost\n",
       "0    1.0   30.0\n",
       "1    2.0   90.2\n",
       "2    3.0  125.4\n",
       "3    4.0  150.4\n",
       "4    5.0  169.8\n",
       "5    6.0  185.6\n",
       "6    7.0  199.0\n",
       "7    8.0  210.6\n",
       "8    9.0  220.8\n",
       "9   10.0  230.0"
      ]
     },
     "execution_count": 4,
     "metadata": {},
     "output_type": "execute_result"
    }
   ],
   "source": [
    "# Source dataframe\n",
    "df = pd.DataFrame(\n",
    "    {\n",
    "        'score': [1., 2., 3., 4., 5., 6., 7., 8., 9., 10.],\n",
    "        'cost': [30.0, 90.2, 125.4, 150.4, 169.8, 185.6, 199.0, 210.6, 220.8, 230.0]\n",
    "    }\n",
    ")\n",
    "\n",
    "df"
   ]
  },
  {
   "cell_type": "code",
   "execution_count": 5,
   "metadata": {},
   "outputs": [],
   "source": [
    "# Definition of linear equation\n",
    "a = tfe.Variable(np.random.randn())\n",
    "b = tfe.Variable(np.random.randn())\n",
    "\n",
    "def linear_regression(inputs):\n",
    "    return inputs * a + b"
   ]
  },
  {
   "cell_type": "code",
   "execution_count": 6,
   "metadata": {},
   "outputs": [],
   "source": [
    "# Regression objective as minimization of error\n",
    "def mean_square_fn(model_fn, inputs, labels):\n",
    "    n_samples = int(tf.size(labels))\n",
    "    return tf.reduce_sum(tf.pow(model_fn(inputs) - labels, 2)) / (2 * n_samples)"
   ]
  },
  {
   "cell_type": "code",
   "execution_count": 7,
   "metadata": {},
   "outputs": [],
   "source": [
    "# Training optimizer\n",
    "optimizer = tf.train.GradientDescentOptimizer(learning_rate=LEARNING_RATE)\n",
    "grad = tfe.implicit_gradients(mean_square_fn)"
   ]
  },
  {
   "cell_type": "code",
   "execution_count": 8,
   "metadata": {},
   "outputs": [],
   "source": [
    "# Main regression routine\n",
    "def make_regression(x, y):\n",
    "    for step in range(NUM_STEPS):\n",
    "        optimizer.apply_gradients(grad(linear_regression, x, y))\n",
    "        if (step + 1) % DISPLAY_STEP == 0 or step == 0:\n",
    "            print(\"Epoch:\", '%04d' % (step + 1), \"cost=\",\n",
    "                  \"{:.9f}\".format(mean_square_fn(linear_regression, x, y)),\n",
    "                  \"a=\", a.numpy(), \"b=\", b.numpy())\n",
    "    return a, b"
   ]
  },
  {
   "cell_type": "code",
   "execution_count": 9,
   "metadata": {},
   "outputs": [],
   "source": [
    "# Plot results\n",
    "def make_plot(x, y):\n",
    "    plt.plot(x, y, 'ro', label='Original')\n",
    "    plt.plot(x, np.array(a * x + b), label='Fitted')\n",
    "    plt.legend()\n",
    "    plt.show()"
   ]
  },
  {
   "cell_type": "code",
   "execution_count": 10,
   "metadata": {},
   "outputs": [
    {
     "name": "stdout",
     "output_type": "stream",
     "text": [
      "WARNING:tensorflow:From /Users/dmitry/anaconda3/envs/features/lib/python3.6/site-packages/tensorflow/python/feature_column/feature_column.py:205: NumericColumn._get_dense_tensor (from tensorflow.python.feature_column.feature_column_v2) is deprecated and will be removed after 2018-11-30.\n",
      "Instructions for updating:\n",
      "The old _FeatureColumn APIs are being deprecated. Please use the new FeatureColumn APIs instead.\n",
      "WARNING:tensorflow:From /Users/dmitry/anaconda3/envs/features/lib/python3.6/site-packages/tensorflow/python/feature_column/feature_column.py:2121: NumericColumn._transform_feature (from tensorflow.python.feature_column.feature_column_v2) is deprecated and will be removed after 2018-11-30.\n",
      "Instructions for updating:\n",
      "The old _FeatureColumn APIs are being deprecated. Please use the new FeatureColumn APIs instead.\n",
      "WARNING:tensorflow:From /Users/dmitry/anaconda3/envs/features/lib/python3.6/site-packages/tensorflow/python/feature_column/feature_column_v2.py:2703: to_float (from tensorflow.python.ops.math_ops) is deprecated and will be removed in a future version.\n",
      "Instructions for updating:\n",
      "Use tf.cast instead.\n",
      "WARNING:tensorflow:From /Users/dmitry/anaconda3/envs/features/lib/python3.6/site-packages/tensorflow/python/feature_column/feature_column.py:206: NumericColumn._variable_shape (from tensorflow.python.feature_column.feature_column_v2) is deprecated and will be removed after 2018-11-30.\n",
      "Instructions for updating:\n",
      "The old _FeatureColumn APIs are being deprecated. Please use the new FeatureColumn APIs instead.\n"
     ]
    }
   ],
   "source": [
    "# Initial column preparation\n",
    "simple_feature_column_score = tf.feature_column.numeric_column('score')\n",
    "simple_feature_column_cost = tf.feature_column.numeric_column('cost')\n",
    "feature_score = {'score': tf.convert_to_tensor(df['score'])}\n",
    "feature_cost = {'cost': tf.convert_to_tensor(df['cost'])}\n",
    "net_score = tf.feature_column.input_layer(feature_score, simple_feature_column_score)\n",
    "net_cost = tf.feature_column.input_layer(feature_cost, simple_feature_column_cost)"
   ]
  },
  {
   "cell_type": "code",
   "execution_count": 11,
   "metadata": {},
   "outputs": [
    {
     "name": "stdout",
     "output_type": "stream",
     "text": [
      "WARNING:tensorflow:From /Users/dmitry/anaconda3/envs/features/lib/python3.6/site-packages/tensorflow/python/ops/resource_variable_ops.py:642: colocate_with (from tensorflow.python.framework.ops) is deprecated and will be removed in a future version.\n",
      "Instructions for updating:\n",
      "Colocations handled automatically by placer.\n",
      "Epoch: 0001 cost= 13897.650390625 a= 52.46255 b= 9.614318\n",
      "Epoch: 0100 cost= 209.697463989 a= 21.571527 b= 35.10564\n",
      "Epoch: 0200 cost= 175.334686279 a= 20.786785 b= 45.579773\n",
      "Epoch: 0300 cost= 172.439361572 a= 20.287212 b= 49.192673\n",
      "Epoch: 0400 cost= 172.089523315 a= 20.107248 b= 50.449238\n",
      "Epoch: 0500 cost= 172.047134399 a= 20.044437 b= 50.88654\n",
      "Epoch: 0600 cost= 172.041976929 a= 20.022585 b= 51.03873\n",
      "Epoch: 0700 cost= 172.041397095 a= 20.014977 b= 51.091705\n",
      "Epoch: 0800 cost= 172.041305542 a= 20.012316 b= 51.11017\n",
      "Epoch: 0900 cost= 172.041305542 a= 20.011398 b= 51.116585\n",
      "Epoch: 1000 cost= 172.041336060 a= 20.011084 b= 51.118813\n"
     ]
    },
    {
     "data": {
      "image/png": "[encoded data removed]",
      "text/plain": [
       "<Figure size 432x288 with 1 Axes>"
      ]
     },
     "metadata": {
      "needs_background": "light"
     },
     "output_type": "display_data"
    }
   ],
   "source": [
    "# First regression test\n",
    "a, b = make_regression(net_score, net_cost)\n",
    "make_plot(net_score, net_cost)"
   ]
  },
  {
   "cell_type": "code",
   "execution_count": 12,
   "metadata": {},
   "outputs": [],
   "source": [
    "# Scaling test\n",
    "val_mean = df['score'].mean()\n",
    "val_std = df['score'].std()\n",
    "\n",
    "def scaler(x):\n",
    "    return (tf.cast(x, dtype=tf.float32) - val_mean) / val_std\n",
    "\n",
    "scale_feature_column_score = tf.feature_column.numeric_column('score', normalizer_fn=scaler)\n",
    "net_score_scale = tf.feature_column.input_layer(feature_score, scale_feature_column_score)"
   ]
  },
  {
   "cell_type": "code",
   "execution_count": 13,
   "metadata": {},
   "outputs": [
    {
     "name": "stdout",
     "output_type": "stream",
     "text": [
      "Epoch: 0001 cost= 6313.914062500 a= 21.836956 b= 56.621872\n",
      "Epoch: 0100 cost= 172.327804565 a= 60.17997 b= 160.52838\n",
      "Epoch: 0200 cost= 172.041336060 a= 60.581974 b= 161.17613\n",
      "Epoch: 0300 cost= 172.041290283 a= 60.586002 b= 161.17986\n",
      "Epoch: 0400 cost= 172.041290283 a= 60.586002 b= 161.17986\n",
      "Epoch: 0500 cost= 172.041290283 a= 60.586002 b= 161.17986\n",
      "Epoch: 0600 cost= 172.041290283 a= 60.586002 b= 161.17986\n",
      "Epoch: 0700 cost= 172.041290283 a= 60.586002 b= 161.17986\n",
      "Epoch: 0800 cost= 172.041290283 a= 60.586002 b= 161.17986\n",
      "Epoch: 0900 cost= 172.041290283 a= 60.586002 b= 161.17986\n",
      "Epoch: 1000 cost= 172.041290283 a= 60.586002 b= 161.17986\n"
     ]
    },
    {
     "data": {
      "image/png": "[encoded data removed]",
      "text/plain": [
       "<Figure size 432x288 with 1 Axes>"
      ]
     },
     "metadata": {
      "needs_background": "light"
     },
     "output_type": "display_data"
    }
   ],
   "source": [
    "a, b = make_regression(net_score_scale, net_cost)\n",
    "make_plot(net_score_scale, net_cost)"
   ]
  },
  {
   "cell_type": "code",
   "execution_count": 14,
   "metadata": {},
   "outputs": [
    {
     "data": {
      "text/html": [
       "<div>\n",
       "<style scoped>\n",
       "    .dataframe tbody tr th:only-of-type {\n",
       "        vertical-align: middle;\n",
       "    }\n",
       "\n",
       "    .dataframe tbody tr th {\n",
       "        vertical-align: top;\n",
       "    }\n",
       "\n",
       "    .dataframe thead th {\n",
       "        text-align: right;\n",
       "    }\n",
       "</style>\n",
       "<table border=\"1\" class=\"dataframe\">\n",
       "  <thead>\n",
       "    <tr style=\"text-align: right;\">\n",
       "      <th></th>\n",
       "      <th>score</th>\n",
       "      <th>cost</th>\n",
       "      <th>cost_rolling</th>\n",
       "    </tr>\n",
       "  </thead>\n",
       "  <tbody>\n",
       "    <tr>\n",
       "      <th>0</th>\n",
       "      <td>1.0</td>\n",
       "      <td>30.0</td>\n",
       "      <td>30.0</td>\n",
       "    </tr>\n",
       "    <tr>\n",
       "      <th>1</th>\n",
       "      <td>2.0</td>\n",
       "      <td>90.2</td>\n",
       "      <td>60.1</td>\n",
       "    </tr>\n",
       "    <tr>\n",
       "      <th>2</th>\n",
       "      <td>3.0</td>\n",
       "      <td>125.4</td>\n",
       "      <td>107.8</td>\n",
       "    </tr>\n",
       "    <tr>\n",
       "      <th>3</th>\n",
       "      <td>4.0</td>\n",
       "      <td>150.4</td>\n",
       "      <td>137.9</td>\n",
       "    </tr>\n",
       "    <tr>\n",
       "      <th>4</th>\n",
       "      <td>5.0</td>\n",
       "      <td>169.8</td>\n",
       "      <td>160.1</td>\n",
       "    </tr>\n",
       "    <tr>\n",
       "      <th>5</th>\n",
       "      <td>6.0</td>\n",
       "      <td>185.6</td>\n",
       "      <td>177.7</td>\n",
       "    </tr>\n",
       "    <tr>\n",
       "      <th>6</th>\n",
       "      <td>7.0</td>\n",
       "      <td>199.0</td>\n",
       "      <td>192.3</td>\n",
       "    </tr>\n",
       "    <tr>\n",
       "      <th>7</th>\n",
       "      <td>8.0</td>\n",
       "      <td>210.6</td>\n",
       "      <td>204.8</td>\n",
       "    </tr>\n",
       "    <tr>\n",
       "      <th>8</th>\n",
       "      <td>9.0</td>\n",
       "      <td>220.8</td>\n",
       "      <td>215.7</td>\n",
       "    </tr>\n",
       "    <tr>\n",
       "      <th>9</th>\n",
       "      <td>10.0</td>\n",
       "      <td>230.0</td>\n",
       "      <td>225.4</td>\n",
       "    </tr>\n",
       "  </tbody>\n",
       "</table>\n",
       "</div>"
      ],
      "text/plain": [
       "   score   cost  cost_rolling\n",
       "0    1.0   30.0          30.0\n",
       "1    2.0   90.2          60.1\n",
       "2    3.0  125.4         107.8\n",
       "3    4.0  150.4         137.9\n",
       "4    5.0  169.8         160.1\n",
       "5    6.0  185.6         177.7\n",
       "6    7.0  199.0         192.3\n",
       "7    8.0  210.6         204.8\n",
       "8    9.0  220.8         215.7\n",
       "9   10.0  230.0         225.4"
      ]
     },
     "execution_count": 14,
     "metadata": {},
     "output_type": "execute_result"
    }
   ],
   "source": [
    "# Prepare moving average\n",
    "df['cost_rolling'] = df['cost'].rolling(2, min_periods=1).mean()\n",
    "df"
   ]
  },
  {
   "cell_type": "code",
   "execution_count": 15,
   "metadata": {},
   "outputs": [],
   "source": [
    "# Test of moving average regression\n",
    "simple_feature_column_cost_rolling = tf.feature_column.numeric_column('cost_rolling')\n",
    "feature_cost_rolling = {'cost_rolling': tf.convert_to_tensor(df['cost_rolling'])}\n",
    "net_cost_rolling = tf.feature_column.input_layer(feature_cost_rolling, simple_feature_column_cost_rolling)"
   ]
  },
  {
   "cell_type": "code",
   "execution_count": 16,
   "metadata": {},
   "outputs": [
    {
     "name": "stdout",
     "output_type": "stream",
     "text": [
      "Epoch: 0001 cost= 60924.074218750 a= -50.008015 b= 144.0187\n",
      "Epoch: 0100 cost= 362.532104492 a= 16.86304 b= 75.70212\n",
      "Epoch: 0200 cost= 154.724319458 a= 19.264545 b= 48.483116\n",
      "Epoch: 0300 cost= 135.115936279 a= 20.574886 b= 39.077953\n",
      "Epoch: 0400 cost= 132.744735718 a= 21.043718 b= 35.8064\n",
      "Epoch: 0500 cost= 132.457550049 a= 21.207243 b= 34.667824\n",
      "Epoch: 0600 cost= 132.422775269 a= 21.264153 b= 34.271553\n",
      "Epoch: 0700 cost= 132.418502808 a= 21.283968 b= 34.13364\n",
      "Epoch: 0800 cost= 132.418014526 a= 21.290867 b= 34.085636\n",
      "Epoch: 0900 cost= 132.417968750 a= 21.293264 b= 34.068924\n",
      "Epoch: 1000 cost= 132.417984009 a= 21.294096 b= 34.063107\n"
     ]
    },
    {
     "data": {
      "image/png": "[encoded data removed]",
      "text/plain": [
       "<Figure size 432x288 with 1 Axes>"
      ]
     },
     "metadata": {
      "needs_background": "light"
     },
     "output_type": "display_data"
    }
   ],
   "source": [
    "a, b = make_regression(net_score, net_cost_rolling)\n",
    "make_plot(net_score, net_cost_rolling)"
   ]
  },
  {
   "cell_type": "markdown",
   "metadata": {},
   "source": [
    "8. Dealing with categorical features\n",
    "  \n",
    "  8.1. Bucketing bins"
   ]
  },
  {
   "cell_type": "markdown",
   "metadata": {},
   "source": [
    "8.2. One-Hot encoding"
   ]
  },
  {
   "cell_type": "code",
   "execution_count": 17,
   "metadata": {},
   "outputs": [
    {
     "name": "stdout",
     "output_type": "stream",
     "text": [
      "WARNING:tensorflow:From /Users/dmitry/anaconda3/envs/features/lib/python3.6/site-packages/tensorflow/python/feature_column/feature_column.py:205: BucketizedColumn._get_dense_tensor (from tensorflow.python.feature_column.feature_column_v2) is deprecated and will be removed after 2018-11-30.\n",
      "Instructions for updating:\n",
      "The old _FeatureColumn APIs are being deprecated. Please use the new FeatureColumn APIs instead.\n",
      "WARNING:tensorflow:From /Users/dmitry/anaconda3/envs/features/lib/python3.6/site-packages/tensorflow/python/feature_column/feature_column.py:2121: BucketizedColumn._transform_feature (from tensorflow.python.feature_column.feature_column_v2) is deprecated and will be removed after 2018-11-30.\n",
      "Instructions for updating:\n",
      "The old _FeatureColumn APIs are being deprecated. Please use the new FeatureColumn APIs instead.\n",
      "WARNING:tensorflow:From /Users/dmitry/anaconda3/envs/features/lib/python3.6/site-packages/tensorflow/python/feature_column/feature_column_v2.py:2851: to_int64 (from tensorflow.python.ops.math_ops) is deprecated and will be removed in a future version.\n",
      "Instructions for updating:\n",
      "Use tf.cast instead.\n",
      "WARNING:tensorflow:From /Users/dmitry/anaconda3/envs/features/lib/python3.6/site-packages/tensorflow/python/feature_column/feature_column.py:206: BucketizedColumn._variable_shape (from tensorflow.python.feature_column.feature_column_v2) is deprecated and will be removed after 2018-11-30.\n",
      "Instructions for updating:\n",
      "The old _FeatureColumn APIs are being deprecated. Please use the new FeatureColumn APIs instead.\n",
      "tf.Tensor(\n",
      "[[1. 0. 0. 0. 0. 0. 0. 0. 0. 0.]\n",
      " [0. 1. 0. 0. 0. 0. 0. 0. 0. 0.]\n",
      " [0. 0. 1. 0. 0. 0. 0. 0. 0. 0.]\n",
      " [0. 0. 0. 1. 0. 0. 0. 0. 0. 0.]\n",
      " [0. 0. 0. 0. 1. 0. 0. 0. 0. 0.]\n",
      " [0. 0. 0. 0. 0. 1. 0. 0. 0. 0.]\n",
      " [0. 0. 0. 0. 0. 0. 1. 0. 0. 0.]\n",
      " [0. 0. 0. 0. 0. 0. 0. 1. 0. 0.]\n",
      " [0. 0. 0. 0. 0. 0. 0. 0. 1. 0.]\n",
      " [0. 0. 0. 0. 0. 0. 0. 0. 0. 1.]], shape=(10, 10), dtype=float32)\n"
     ]
    }
   ],
   "source": [
    "# Prepare bucketized data\n",
    "bucketized_feature_column_cost = tf.feature_column.bucketized_column(\n",
    "    source_column = simple_feature_column_cost,\n",
    "    boundaries = [50, 100, 150, 160, 180, 190, 200, 220, 225])\n",
    "\n",
    "net_cost_bucket = tf.feature_column.input_layer(feature_cost, bucketized_feature_column_cost)\n",
    "print(net_cost_bucket)"
   ]
  },
  {
   "cell_type": "markdown",
   "metadata": {},
   "source": [
    "1.2 One hot decouding "
   ]
  },
  {
   "cell_type": "code",
   "execution_count": 18,
   "metadata": {},
   "outputs": [
    {
     "name": "stdout",
     "output_type": "stream",
     "text": [
      "tf.Tensor(\n",
      "[[0.]\n",
      " [1.]\n",
      " [2.]\n",
      " [3.]\n",
      " [4.]\n",
      " [5.]\n",
      " [6.]\n",
      " [7.]\n",
      " [8.]\n",
      " [9.]], shape=(10, 1), dtype=float32)\n"
     ]
    }
   ],
   "source": [
    "# Prepare plain bucket index\n",
    "bucket_index = tf.reshape(tf.cast(tf.argmax(net_cost_bucket, axis=1), tf.float32), [-1, 1])\n",
    "print(bucket_index)"
   ]
  },
  {
   "cell_type": "code",
   "execution_count": 19,
   "metadata": {},
   "outputs": [
    {
     "name": "stdout",
     "output_type": "stream",
     "text": [
      "Epoch: 0001 cost= 11592.997070312 a= -27.414396 b= 26.729074\n",
      "Epoch: 0100 cost= 21.836191177 a= 0.09374571 b= 10.058662\n",
      "Epoch: 0200 cost= 1.566419959 a= 0.46994886 b= 2.818037\n",
      "Epoch: 0300 cost= 0.188961983 a= 0.8097397 b= 0.3280028\n",
      "Epoch: 0400 cost= 0.022888858 a= 0.9336257 b= -0.53782296\n",
      "Epoch: 0500 cost= 0.002772587 a= 0.97689486 b= -0.839144\n",
      "Epoch: 0600 cost= 0.000335850 a= 0.9919584 b= -0.94401556\n",
      "Epoch: 0700 cost= 0.000040682 a= 0.997201 b= -0.9805153\n",
      "Epoch: 0800 cost= 0.000004928 a= 0.9990255 b= -0.9932185\n",
      "Epoch: 0900 cost= 0.000000597 a= 0.999661 b= -0.99763966\n",
      "Epoch: 1000 cost= 0.000000072 a= 0.9998821 b= -0.99917835\n"
     ]
    },
    {
     "data": {
      "image/png": "[encoded data removed]",
      "text/plain": [
       "<Figure size 432x288 with 1 Axes>"
      ]
     },
     "metadata": {
      "needs_background": "light"
     },
     "output_type": "display_data"
    }
   ],
   "source": [
    "a, b = make_regression(net_score, bucket_index)\n",
    "make_plot(net_score, bucket_index)"
   ]
  },
  {
   "cell_type": "code",
   "execution_count": 20,
   "metadata": {},
   "outputs": [],
   "source": [
    "# Make a log transformation of data\n",
    "def log_transformer(x):\n",
    "    return tf.cast(tf.log(x), dtype=tf.float32)\n",
    "\n",
    "log_feature_column_score = tf.feature_column.numeric_column('score', normalizer_fn=log_transformer)\n",
    "net_score_log = tf.feature_column.input_layer(feature_score, log_feature_column_score)"
   ]
  },
  {
   "cell_type": "code",
   "execution_count": 21,
   "metadata": {},
   "outputs": [
    {
     "name": "stdout",
     "output_type": "stream",
     "text": [
      "Epoch: 0001 cost= 9844.056640625 a= 15.209748 b= 7.034268\n",
      "Epoch: 0100 cost= 4.395976067 a= 82.80523 b= 37.045963\n",
      "Epoch: 0200 cost= 1.155776262 a= 84.77604 b= 33.611935\n",
      "Epoch: 0300 cost= 0.303934276 a= 85.78653 b= 31.851187\n",
      "Epoch: 0400 cost= 0.079980686 a= 86.30466 b= 30.948378\n",
      "Epoch: 0500 cost= 0.021103982 a= 86.57032 b= 30.485487\n",
      "Epoch: 0600 cost= 0.005623897 a= 86.706535 b= 30.248133\n",
      "Epoch: 0700 cost= 0.001554373 a= 86.77638 b= 30.12643\n",
      "Epoch: 0800 cost= 0.000484552 a= 86.81218 b= 30.064035\n",
      "Epoch: 0900 cost= 0.000203296 a= 86.830536 b= 30.032051\n",
      "Epoch: 1000 cost= 0.000129330 a= 86.83994 b= 30.015665\n"
     ]
    },
    {
     "data": {
      "image/png": "[encoded data removed]",
      "text/plain": [
       "<Figure size 432x288 with 1 Axes>"
      ]
     },
     "metadata": {
      "needs_background": "light"
     },
     "output_type": "display_data"
    }
   ],
   "source": [
    "a, b = make_regression(net_score_log, net_cost)\n",
    "make_plot(net_score_log, net_cost)"
   ]
  },
  {
   "cell_type": "code",
   "execution_count": null,
   "metadata": {},
   "outputs": [],
   "source": []
  }
 ],
 "metadata": {
  "kernelspec": {
   "display_name": "Python 3",
   "language": "python",
   "name": "python3"
  },
  "language_info": {
   "codemirror_mode": {
    "name": "ipython",
    "version": 3
   },
   "file_extension": ".py",
   "mimetype": "text/x-python",
   "name": "python",
   "nbconvert_exporter": "python",
   "pygments_lexer": "ipython3",
   "version": "3.7.3"
  }
 },
 "nbformat": 4,
 "nbformat_minor": 2
}
