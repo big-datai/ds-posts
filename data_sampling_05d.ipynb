{
 "cells": [
  {
   "cell_type": "markdown",
   "metadata": {},
   "source": [
    "# Index\n",
    "\n",
    "### 1. Dealing with categorical features\n",
    "    1.1. Bucketing bins\n",
    "    1.2. and One-Hot encoding\n",
    "    1.3 string integet -> identity, vocabulary_file if don't know go with hash bucket\n",
    "    \n",
    "### 2. Feature transformation\n",
    "    2.1 log\n",
    "   \n",
    "    2.2 feature expentions, PolynomialFeatures, extraction\n",
    "    \n",
    "    2.3 Scaling or normalizing features within a range \n",
    "    \n",
    "### 3. Feature crossing - (long, lat)\n",
    "\n",
    "### 4. Row aggregation, group by\n",
    "\n",
    "    4.1 Moving averages with panda df\n",
    "\n",
    "### 5. Embedding works with everything space reduction\n",
    "\n",
    "### 6. Simple model improved after feature engineering.\n"
   ]
  },
  {
   "cell_type": "code",
   "execution_count": 1,
   "metadata": {},
   "outputs": [],
   "source": [
    "import numpy as np\n",
    "import os\n",
    "os.environ['TF_CPP_MIN_LOG_LEVEL'] = '3' \n",
    "import pandas as pd\n",
    "import tensorflow as tf\n",
    "tf.logging.set_verbosity(tf.logging.ERROR)\n",
    "import matplotlib.pyplot as plt\n",
    "from collections import OrderedDict"
   ]
  },
  {
   "cell_type": "code",
   "execution_count": 2,
   "metadata": {},
   "outputs": [],
   "source": [
    "# Project constants\n",
    "LEARN_SIZE = 50\n",
    "POLY_DEGREE = 2\n",
    "LEARNING_RATE = 0.001\n",
    "DISPLAY_STEP = 200\n",
    "NUM_STEPS = 3000\n",
    "PRINT_LIMIT = 5"
   ]
  },
  {
   "cell_type": "code",
   "execution_count": 3,
   "metadata": {},
   "outputs": [
    {
     "name": "stdout",
     "output_type": "stream",
     "text": [
      "\n",
      "WARNING: The TensorFlow contrib module will not be included in TensorFlow 2.0.\n",
      "For more information, please see:\n",
      "  * https://github.com/tensorflow/community/blob/master/rfcs/20180907-contrib-sunset.md\n",
      "  * https://github.com/tensorflow/addons\n",
      "If you depend on functionality not listed there, please file an issue.\n",
      "\n"
     ]
    }
   ],
   "source": [
    "# Immediate execution\n",
    "tf.enable_eager_execution()\n",
    "tfe = tf.contrib.eager"
   ]
  },
  {
   "cell_type": "markdown",
   "metadata": {},
   "source": [
    "# Load dataset\n",
    "\n",
    "From Google Machine Learning crash course"
   ]
  },
  {
   "cell_type": "code",
   "execution_count": 4,
   "metadata": {},
   "outputs": [],
   "source": [
    "housing_df = pd.read_csv(\"https://storage.googleapis.com/ml_universities/california_housing_train.csv\", sep=\",\")"
   ]
  },
  {
   "cell_type": "markdown",
   "metadata": {},
   "source": [
    "Let's look over the dataset"
   ]
  },
  {
   "cell_type": "code",
   "execution_count": 5,
   "metadata": {},
   "outputs": [
    {
     "data": {
      "text/html": [
       "<div>\n",
       "<style scoped>\n",
       "    .dataframe tbody tr th:only-of-type {\n",
       "        vertical-align: middle;\n",
       "    }\n",
       "\n",
       "    .dataframe tbody tr th {\n",
       "        vertical-align: top;\n",
       "    }\n",
       "\n",
       "    .dataframe thead th {\n",
       "        text-align: right;\n",
       "    }\n",
       "</style>\n",
       "<table border=\"1\" class=\"dataframe\">\n",
       "  <thead>\n",
       "    <tr style=\"text-align: right;\">\n",
       "      <th></th>\n",
       "      <th>longitude</th>\n",
       "      <th>latitude</th>\n",
       "      <th>housing_median_age</th>\n",
       "      <th>total_rooms</th>\n",
       "      <th>total_bedrooms</th>\n",
       "      <th>population</th>\n",
       "      <th>households</th>\n",
       "      <th>median_income</th>\n",
       "      <th>median_house_value</th>\n",
       "    </tr>\n",
       "  </thead>\n",
       "  <tbody>\n",
       "    <tr>\n",
       "      <th>0</th>\n",
       "      <td>-114.31</td>\n",
       "      <td>34.19</td>\n",
       "      <td>15.0</td>\n",
       "      <td>5612.0</td>\n",
       "      <td>1283.0</td>\n",
       "      <td>1015.0</td>\n",
       "      <td>472.0</td>\n",
       "      <td>1.4936</td>\n",
       "      <td>66900.0</td>\n",
       "    </tr>\n",
       "    <tr>\n",
       "      <th>1</th>\n",
       "      <td>-114.47</td>\n",
       "      <td>34.40</td>\n",
       "      <td>19.0</td>\n",
       "      <td>7650.0</td>\n",
       "      <td>1901.0</td>\n",
       "      <td>1129.0</td>\n",
       "      <td>463.0</td>\n",
       "      <td>1.8200</td>\n",
       "      <td>80100.0</td>\n",
       "    </tr>\n",
       "    <tr>\n",
       "      <th>2</th>\n",
       "      <td>-114.56</td>\n",
       "      <td>33.69</td>\n",
       "      <td>17.0</td>\n",
       "      <td>720.0</td>\n",
       "      <td>174.0</td>\n",
       "      <td>333.0</td>\n",
       "      <td>117.0</td>\n",
       "      <td>1.6509</td>\n",
       "      <td>85700.0</td>\n",
       "    </tr>\n",
       "    <tr>\n",
       "      <th>3</th>\n",
       "      <td>-114.57</td>\n",
       "      <td>33.64</td>\n",
       "      <td>14.0</td>\n",
       "      <td>1501.0</td>\n",
       "      <td>337.0</td>\n",
       "      <td>515.0</td>\n",
       "      <td>226.0</td>\n",
       "      <td>3.1917</td>\n",
       "      <td>73400.0</td>\n",
       "    </tr>\n",
       "    <tr>\n",
       "      <th>4</th>\n",
       "      <td>-114.57</td>\n",
       "      <td>33.57</td>\n",
       "      <td>20.0</td>\n",
       "      <td>1454.0</td>\n",
       "      <td>326.0</td>\n",
       "      <td>624.0</td>\n",
       "      <td>262.0</td>\n",
       "      <td>1.9250</td>\n",
       "      <td>65500.0</td>\n",
       "    </tr>\n",
       "  </tbody>\n",
       "</table>\n",
       "</div>"
      ],
      "text/plain": [
       "   longitude  latitude  housing_median_age  total_rooms  total_bedrooms  \\\n",
       "0    -114.31     34.19                15.0       5612.0          1283.0   \n",
       "1    -114.47     34.40                19.0       7650.0          1901.0   \n",
       "2    -114.56     33.69                17.0        720.0           174.0   \n",
       "3    -114.57     33.64                14.0       1501.0           337.0   \n",
       "4    -114.57     33.57                20.0       1454.0           326.0   \n",
       "\n",
       "   population  households  median_income  median_house_value  \n",
       "0      1015.0       472.0         1.4936             66900.0  \n",
       "1      1129.0       463.0         1.8200             80100.0  \n",
       "2       333.0       117.0         1.6509             85700.0  \n",
       "3       515.0       226.0         3.1917             73400.0  \n",
       "4       624.0       262.0         1.9250             65500.0  "
      ]
     },
     "execution_count": 5,
     "metadata": {},
     "output_type": "execute_result"
    }
   ],
   "source": [
    "housing_df.head(PRINT_LIMIT)"
   ]
  },
  {
   "cell_type": "code",
   "execution_count": 6,
   "metadata": {},
   "outputs": [
    {
     "data": {
      "text/html": [
       "<div>\n",
       "<style scoped>\n",
       "    .dataframe tbody tr th:only-of-type {\n",
       "        vertical-align: middle;\n",
       "    }\n",
       "\n",
       "    .dataframe tbody tr th {\n",
       "        vertical-align: top;\n",
       "    }\n",
       "\n",
       "    .dataframe thead th {\n",
       "        text-align: right;\n",
       "    }\n",
       "</style>\n",
       "<table border=\"1\" class=\"dataframe\">\n",
       "  <thead>\n",
       "    <tr style=\"text-align: right;\">\n",
       "      <th></th>\n",
       "      <th>longitude</th>\n",
       "      <th>latitude</th>\n",
       "      <th>housing_median_age</th>\n",
       "      <th>total_rooms</th>\n",
       "      <th>total_bedrooms</th>\n",
       "      <th>population</th>\n",
       "      <th>households</th>\n",
       "      <th>median_income</th>\n",
       "      <th>median_house_value</th>\n",
       "    </tr>\n",
       "  </thead>\n",
       "  <tbody>\n",
       "    <tr>\n",
       "      <th>count</th>\n",
       "      <td>17000.000000</td>\n",
       "      <td>17000.000000</td>\n",
       "      <td>17000.000000</td>\n",
       "      <td>17000.000000</td>\n",
       "      <td>17000.000000</td>\n",
       "      <td>17000.000000</td>\n",
       "      <td>17000.000000</td>\n",
       "      <td>17000.000000</td>\n",
       "      <td>17000.000000</td>\n",
       "    </tr>\n",
       "    <tr>\n",
       "      <th>mean</th>\n",
       "      <td>-119.562108</td>\n",
       "      <td>35.625225</td>\n",
       "      <td>28.589353</td>\n",
       "      <td>2643.664412</td>\n",
       "      <td>539.410824</td>\n",
       "      <td>1429.573941</td>\n",
       "      <td>501.221941</td>\n",
       "      <td>3.883578</td>\n",
       "      <td>207300.912353</td>\n",
       "    </tr>\n",
       "    <tr>\n",
       "      <th>std</th>\n",
       "      <td>2.005166</td>\n",
       "      <td>2.137340</td>\n",
       "      <td>12.586937</td>\n",
       "      <td>2179.947071</td>\n",
       "      <td>421.499452</td>\n",
       "      <td>1147.852959</td>\n",
       "      <td>384.520841</td>\n",
       "      <td>1.908157</td>\n",
       "      <td>115983.764387</td>\n",
       "    </tr>\n",
       "    <tr>\n",
       "      <th>min</th>\n",
       "      <td>-124.350000</td>\n",
       "      <td>32.540000</td>\n",
       "      <td>1.000000</td>\n",
       "      <td>2.000000</td>\n",
       "      <td>1.000000</td>\n",
       "      <td>3.000000</td>\n",
       "      <td>1.000000</td>\n",
       "      <td>0.499900</td>\n",
       "      <td>14999.000000</td>\n",
       "    </tr>\n",
       "    <tr>\n",
       "      <th>25%</th>\n",
       "      <td>-121.790000</td>\n",
       "      <td>33.930000</td>\n",
       "      <td>18.000000</td>\n",
       "      <td>1462.000000</td>\n",
       "      <td>297.000000</td>\n",
       "      <td>790.000000</td>\n",
       "      <td>282.000000</td>\n",
       "      <td>2.566375</td>\n",
       "      <td>119400.000000</td>\n",
       "    </tr>\n",
       "    <tr>\n",
       "      <th>50%</th>\n",
       "      <td>-118.490000</td>\n",
       "      <td>34.250000</td>\n",
       "      <td>29.000000</td>\n",
       "      <td>2127.000000</td>\n",
       "      <td>434.000000</td>\n",
       "      <td>1167.000000</td>\n",
       "      <td>409.000000</td>\n",
       "      <td>3.544600</td>\n",
       "      <td>180400.000000</td>\n",
       "    </tr>\n",
       "    <tr>\n",
       "      <th>75%</th>\n",
       "      <td>-118.000000</td>\n",
       "      <td>37.720000</td>\n",
       "      <td>37.000000</td>\n",
       "      <td>3151.250000</td>\n",
       "      <td>648.250000</td>\n",
       "      <td>1721.000000</td>\n",
       "      <td>605.250000</td>\n",
       "      <td>4.767000</td>\n",
       "      <td>265000.000000</td>\n",
       "    </tr>\n",
       "    <tr>\n",
       "      <th>max</th>\n",
       "      <td>-114.310000</td>\n",
       "      <td>41.950000</td>\n",
       "      <td>52.000000</td>\n",
       "      <td>37937.000000</td>\n",
       "      <td>6445.000000</td>\n",
       "      <td>35682.000000</td>\n",
       "      <td>6082.000000</td>\n",
       "      <td>15.000100</td>\n",
       "      <td>500001.000000</td>\n",
       "    </tr>\n",
       "  </tbody>\n",
       "</table>\n",
       "</div>"
      ],
      "text/plain": [
       "          longitude      latitude  housing_median_age   total_rooms  \\\n",
       "count  17000.000000  17000.000000        17000.000000  17000.000000   \n",
       "mean    -119.562108     35.625225           28.589353   2643.664412   \n",
       "std        2.005166      2.137340           12.586937   2179.947071   \n",
       "min     -124.350000     32.540000            1.000000      2.000000   \n",
       "25%     -121.790000     33.930000           18.000000   1462.000000   \n",
       "50%     -118.490000     34.250000           29.000000   2127.000000   \n",
       "75%     -118.000000     37.720000           37.000000   3151.250000   \n",
       "max     -114.310000     41.950000           52.000000  37937.000000   \n",
       "\n",
       "       total_bedrooms    population    households  median_income  \\\n",
       "count    17000.000000  17000.000000  17000.000000   17000.000000   \n",
       "mean       539.410824   1429.573941    501.221941       3.883578   \n",
       "std        421.499452   1147.852959    384.520841       1.908157   \n",
       "min          1.000000      3.000000      1.000000       0.499900   \n",
       "25%        297.000000    790.000000    282.000000       2.566375   \n",
       "50%        434.000000   1167.000000    409.000000       3.544600   \n",
       "75%        648.250000   1721.000000    605.250000       4.767000   \n",
       "max       6445.000000  35682.000000   6082.000000      15.000100   \n",
       "\n",
       "       median_house_value  \n",
       "count        17000.000000  \n",
       "mean        207300.912353  \n",
       "std         115983.764387  \n",
       "min          14999.000000  \n",
       "25%         119400.000000  \n",
       "50%         180400.000000  \n",
       "75%         265000.000000  \n",
       "max         500001.000000  "
      ]
     },
     "execution_count": 6,
     "metadata": {},
     "output_type": "execute_result"
    }
   ],
   "source": [
    "housing_df.describe()"
   ]
  },
  {
   "cell_type": "markdown",
   "metadata": {},
   "source": [
    "It seems reasonable to evaluate also the dataset features. The dataset is very abundant, so we may limit the data only for the evaluation purposes."
   ]
  },
  {
   "cell_type": "code",
   "execution_count": 7,
   "metadata": {},
   "outputs": [],
   "source": [
    "housing_df = housing_df[:LEARN_SIZE]"
   ]
  },
  {
   "cell_type": "markdown",
   "metadata": {},
   "source": [
    "We can continue with the Tensorflow data processing now. We may prepare the uniform routine to convert any numeric feature to the Feature Column. This routine also can use predefined transformation function."
   ]
  },
  {
   "cell_type": "code",
   "execution_count": 8,
   "metadata": {},
   "outputs": [],
   "source": [
    "# TODO Delete!!!\n",
    "def prepare_feature_numeric_column(feature, transformer=None):\n",
    "    if transformer:\n",
    "        feature_column = tf.feature_column.numeric_column(feature, normalizer_fn=transformer)\n",
    "    else:\n",
    "        feature_column = tf.feature_column.numeric_column(feature)\n",
    "    feature_tensor = {feature: tf.convert_to_tensor(housing_df[feature])}\n",
    "    return tf.feature_column.input_layer(feature_tensor, feature_column)"
   ]
  },
  {
   "cell_type": "markdown",
   "metadata": {},
   "source": [
    "# 1. Dealing with categorical features\n",
    "1.1. Bucketing bins and One-Hot encoding\n",
    "1.2\n",
    "\n",
    "Some numeric values perform better in the categorized form. For example, we can convert 'Housing median age' field into bucketing form. Such operation results in the one-hot-encoded matrix with the parameters separated into predefined bins."
   ]
  },
  {
   "cell_type": "code",
   "execution_count": 9,
   "metadata": {},
   "outputs": [
    {
     "name": "stdout",
     "output_type": "stream",
     "text": [
      "[[0. 1. 0. 0. 0.]\n",
      " [0. 1. 0. 0. 0.]\n",
      " [0. 1. 0. 0. 0.]\n",
      " [0. 1. 0. 0. 0.]\n",
      " [0. 0. 1. 0. 0.]]\n"
     ]
    }
   ],
   "source": [
    "feature_column = tf.feature_column.numeric_column('housing_median_age')\n",
    "feature = {'housing_median_age': tf.convert_to_tensor(housing_df['housing_median_age'])}\n",
    "\n",
    "bucketized_column = tf.feature_column.bucketized_column(\n",
    "    source_column = feature_column,\n",
    "    boundaries = [10, 20, 30, 40])\n",
    "\n",
    "net_age_bucket = tf.feature_column.input_layer(feature, bucketized_column)\n",
    "print(net_age_bucket.numpy()[:PRINT_LIMIT])"
   ]
  },
  {
   "cell_type": "code",
   "execution_count": 10,
   "metadata": {},
   "outputs": [],
   "source": [
    "# one hot encoding no bins"
   ]
  },
  {
   "cell_type": "markdown",
   "metadata": {},
   "source": [
    "Also a more condensed representation would help in our further calculations. This one-hot-decoding gives us a flat category (rank of current bin)."
   ]
  },
  {
   "cell_type": "code",
   "execution_count": 11,
   "metadata": {},
   "outputs": [
    {
     "name": "stdout",
     "output_type": "stream",
     "text": [
      "[[1.]\n",
      " [1.]\n",
      " [1.]\n",
      " [1.]\n",
      " [2.]]\n"
     ]
    }
   ],
   "source": [
    "bucket_index = tf.reshape(tf.cast(tf.argmax(net_age_bucket, axis=1), tf.float32), [-1, 1])\n",
    "print(bucket_index.numpy()[:PRINT_LIMIT])"
   ]
  },
  {
   "cell_type": "markdown",
   "metadata": {},
   "source": [
    "# 2. Feature transformation\n",
    "## 2.1 log\n",
    "Tensorflow helps us to make a direct conversion of feature data during the import. For example, we obtain a log transformed data directly."
   ]
  },
  {
   "cell_type": "code",
   "execution_count": 12,
   "metadata": {},
   "outputs": [
    {
     "name": "stdout",
     "output_type": "stream",
     "text": [
      "[[2.7080503]\n",
      " [2.944439 ]\n",
      " [2.8332133]\n",
      " [2.6390574]\n",
      " [2.9957323]]\n"
     ]
    }
   ],
   "source": [
    "#todo do not use function\n",
    "def log_transformer(x):\n",
    "    return tf.cast(tf.log(x), dtype=tf.float32)\n",
    "\n",
    "net_age_log = prepare_feature_numeric_column('housing_median_age', log_transformer)\n",
    "print(net_age_log.numpy()[:PRINT_LIMIT])"
   ]
  },
  {
   "cell_type": "markdown",
   "metadata": {},
   "source": [
    "## 2.2 feature \n",
    "Data conversion may include a popular polynomial conversion. We will get the polynomially transformed (squared) data in the next cell."
   ]
  },
  {
   "cell_type": "code",
   "execution_count": 13,
   "metadata": {},
   "outputs": [
    {
     "name": "stdout",
     "output_type": "stream",
     "text": [
      "[[225.]\n",
      " [361.]\n",
      " [289.]\n",
      " [196.]\n",
      " [400.]]\n"
     ]
    }
   ],
   "source": [
    "#todo put multiple polinomials, show the input and output together,plot it\n",
    "def poly_transformer(x):\n",
    "    return tf.cast(tf.pow(x, POLY_DEGREE), dtype=tf.float32)\n",
    "\n",
    "net_age_poly = prepare_feature_numeric_column('housing_median_age', poly_transformer)\n",
    "print(net_age_poly.numpy()[:PRINT_LIMIT])"
   ]
  },
  {
   "cell_type": "markdown",
   "metadata": {},
   "source": [
    "## 2.3 Scaling or normalizing features within a range \n",
    "Normalization is one of the most popular data transformation methods. Tensorflow helps us to prepare a feature column with zero mean and uniform standard deviation easily."
   ]
  },
  {
   "cell_type": "code",
   "execution_count": 14,
   "metadata": {},
   "outputs": [
    {
     "name": "stdout",
     "output_type": "stream",
     "text": [
      "[[-0.9863035 ]\n",
      " [-0.5338707 ]\n",
      " [-0.7600871 ]\n",
      " [-1.0994117 ]\n",
      " [-0.42076248]]\n"
     ]
    }
   ],
   "source": [
    "# use tf scaling function\n",
    "val_mean = housing_df['housing_median_age'].mean()\n",
    "val_std = housing_df['housing_median_age'].std()\n",
    "\n",
    "def scaler(x):\n",
    "    return (tf.cast(x, dtype=tf.float32) - val_mean) / val_std\n",
    "\n",
    "net_age_scale = prepare_feature_numeric_column('housing_median_age', scaler)\n",
    "print(net_age_scale.numpy()[:PRINT_LIMIT])"
   ]
  },
  {
   "cell_type": "markdown",
   "metadata": {},
   "source": [
    "# 3. Feature crossing \n",
    "Need to mention also more complex data processing methods like feature crossing. They could help us to combine similar variables  for a further simultaneous processing."
   ]
  },
  {
   "cell_type": "code",
   "execution_count": 15,
   "metadata": {},
   "outputs": [],
   "source": [
    "def get_quantile_based_boundaries(feature_values, num_buckets):\n",
    "    boundaries = np.arange(1.0, num_buckets) / num_buckets\n",
    "    quantiles = feature_values.quantile(boundaries)\n",
    "    return [quantiles[q] for q in quantiles.keys()]"
   ]
  },
  {
   "cell_type": "code",
   "execution_count": 16,
   "metadata": {},
   "outputs": [],
   "source": [
    "# X*Y^-1"
   ]
  },
  {
   "cell_type": "code",
   "execution_count": 17,
   "metadata": {},
   "outputs": [
    {
     "data": {
      "text/plain": [
       "0    5.529064\n",
       "1    6.775908\n",
       "2    2.162162\n",
       "3    2.914563\n",
       "4    2.330128\n",
       "Name: rooms_per_person, dtype: float64"
      ]
     },
     "execution_count": 17,
     "metadata": {},
     "output_type": "execute_result"
    }
   ],
   "source": [
    "housing_df['rooms_per_person'] = housing_df['total_rooms'] / housing_df['population']\n",
    "housing_df['rooms_per_person'].head(PRINT_LIMIT)"
   ]
  },
  {
   "cell_type": "markdown",
   "metadata": {},
   "source": [
    "# 4. Row aggregation, group by,\n",
    "A detailed dataset evaluation may include grouping of some features. What if we want to estimate average dataset values related to the same housing mean age?"
   ]
  },
  {
   "cell_type": "code",
   "execution_count": 18,
   "metadata": {},
   "outputs": [],
   "source": [
    "# mean on axis 1\n",
    "# use case or remove"
   ]
  },
  {
   "cell_type": "code",
   "execution_count": 19,
   "metadata": {
    "scrolled": false
   },
   "outputs": [
    {
     "data": {
      "text/html": [
       "<div>\n",
       "<style scoped>\n",
       "    .dataframe tbody tr th:only-of-type {\n",
       "        vertical-align: middle;\n",
       "    }\n",
       "\n",
       "    .dataframe tbody tr th {\n",
       "        vertical-align: top;\n",
       "    }\n",
       "\n",
       "    .dataframe thead th {\n",
       "        text-align: right;\n",
       "    }\n",
       "</style>\n",
       "<table border=\"1\" class=\"dataframe\">\n",
       "  <thead>\n",
       "    <tr style=\"text-align: right;\">\n",
       "      <th></th>\n",
       "      <th>longitude</th>\n",
       "      <th>latitude</th>\n",
       "      <th>total_rooms</th>\n",
       "      <th>total_bedrooms</th>\n",
       "      <th>population</th>\n",
       "      <th>households</th>\n",
       "      <th>median_income</th>\n",
       "      <th>median_house_value</th>\n",
       "      <th>rooms_per_person</th>\n",
       "    </tr>\n",
       "    <tr>\n",
       "      <th>housing_median_age</th>\n",
       "      <th></th>\n",
       "      <th></th>\n",
       "      <th></th>\n",
       "      <th></th>\n",
       "      <th></th>\n",
       "      <th></th>\n",
       "      <th></th>\n",
       "      <th></th>\n",
       "      <th></th>\n",
       "    </tr>\n",
       "  </thead>\n",
       "  <tbody>\n",
       "    <tr>\n",
       "      <th>11.0</th>\n",
       "      <td>-115.510</td>\n",
       "      <td>32.6800</td>\n",
       "      <td>2872.0</td>\n",
       "      <td>610.0</td>\n",
       "      <td>2644.0</td>\n",
       "      <td>581.0</td>\n",
       "      <td>2.625000</td>\n",
       "      <td>72700.0</td>\n",
       "      <td>1.086233</td>\n",
       "    </tr>\n",
       "    <tr>\n",
       "      <th>13.0</th>\n",
       "      <td>-115.500</td>\n",
       "      <td>32.7500</td>\n",
       "      <td>330.0</td>\n",
       "      <td>72.0</td>\n",
       "      <td>822.0</td>\n",
       "      <td>64.0</td>\n",
       "      <td>3.410700</td>\n",
       "      <td>142500.0</td>\n",
       "      <td>0.401460</td>\n",
       "    </tr>\n",
       "    <tr>\n",
       "      <th>14.0</th>\n",
       "      <td>-114.970</td>\n",
       "      <td>33.2300</td>\n",
       "      <td>1388.5</td>\n",
       "      <td>303.5</td>\n",
       "      <td>691.0</td>\n",
       "      <td>243.5</td>\n",
       "      <td>2.564600</td>\n",
       "      <td>77150.0</td>\n",
       "      <td>2.193152</td>\n",
       "    </tr>\n",
       "    <tr>\n",
       "      <th>15.0</th>\n",
       "      <td>-114.850</td>\n",
       "      <td>33.3625</td>\n",
       "      <td>2779.5</td>\n",
       "      <td>614.0</td>\n",
       "      <td>1049.5</td>\n",
       "      <td>361.5</td>\n",
       "      <td>1.973425</td>\n",
       "      <td>68600.0</td>\n",
       "      <td>3.345913</td>\n",
       "    </tr>\n",
       "    <tr>\n",
       "      <th>16.0</th>\n",
       "      <td>-114.995</td>\n",
       "      <td>33.1900</td>\n",
       "      <td>2438.5</td>\n",
       "      <td>498.5</td>\n",
       "      <td>1457.5</td>\n",
       "      <td>504.5</td>\n",
       "      <td>4.467750</td>\n",
       "      <td>116400.0</td>\n",
       "      <td>1.949361</td>\n",
       "    </tr>\n",
       "  </tbody>\n",
       "</table>\n",
       "</div>"
      ],
      "text/plain": [
       "                    longitude  latitude  total_rooms  total_bedrooms  \\\n",
       "housing_median_age                                                     \n",
       "11.0                 -115.510   32.6800       2872.0           610.0   \n",
       "13.0                 -115.500   32.7500        330.0            72.0   \n",
       "14.0                 -114.970   33.2300       1388.5           303.5   \n",
       "15.0                 -114.850   33.3625       2779.5           614.0   \n",
       "16.0                 -114.995   33.1900       2438.5           498.5   \n",
       "\n",
       "                    population  households  median_income  median_house_value  \\\n",
       "housing_median_age                                                              \n",
       "11.0                    2644.0       581.0       2.625000             72700.0   \n",
       "13.0                     822.0        64.0       3.410700            142500.0   \n",
       "14.0                     691.0       243.5       2.564600             77150.0   \n",
       "15.0                    1049.5       361.5       1.973425             68600.0   \n",
       "16.0                    1457.5       504.5       4.467750            116400.0   \n",
       "\n",
       "                    rooms_per_person  \n",
       "housing_median_age                    \n",
       "11.0                        1.086233  \n",
       "13.0                        0.401460  \n",
       "14.0                        2.193152  \n",
       "15.0                        3.345913  \n",
       "16.0                        1.949361  "
      ]
     },
     "execution_count": 19,
     "metadata": {},
     "output_type": "execute_result"
    }
   ],
   "source": [
    "housing_df.groupby(['housing_median_age']).mean().head(PRINT_LIMIT)"
   ]
  },
  {
   "cell_type": "markdown",
   "metadata": {},
   "source": [
    "## 4.1 Moving averages with panda df\n",
    "Otherwise we may change the dataset representation by preparing the moving average to smooth possible divagations of variable variability."
   ]
  },
  {
   "cell_type": "code",
   "execution_count": 20,
   "metadata": {},
   "outputs": [
    {
     "data": {
      "text/html": [
       "<div>\n",
       "<style scoped>\n",
       "    .dataframe tbody tr th:only-of-type {\n",
       "        vertical-align: middle;\n",
       "    }\n",
       "\n",
       "    .dataframe tbody tr th {\n",
       "        vertical-align: top;\n",
       "    }\n",
       "\n",
       "    .dataframe thead th {\n",
       "        text-align: right;\n",
       "    }\n",
       "</style>\n",
       "<table border=\"1\" class=\"dataframe\">\n",
       "  <thead>\n",
       "    <tr style=\"text-align: right;\">\n",
       "      <th></th>\n",
       "      <th>longitude</th>\n",
       "      <th>latitude</th>\n",
       "      <th>housing_median_age</th>\n",
       "      <th>total_rooms</th>\n",
       "      <th>total_bedrooms</th>\n",
       "      <th>population</th>\n",
       "      <th>households</th>\n",
       "      <th>median_income</th>\n",
       "      <th>median_house_value</th>\n",
       "      <th>rooms_per_person</th>\n",
       "      <th>h_m_age_rolling</th>\n",
       "    </tr>\n",
       "  </thead>\n",
       "  <tbody>\n",
       "    <tr>\n",
       "      <th>49</th>\n",
       "      <td>-115.51</td>\n",
       "      <td>32.68</td>\n",
       "      <td>11.0</td>\n",
       "      <td>2872.0</td>\n",
       "      <td>610.0</td>\n",
       "      <td>2644.0</td>\n",
       "      <td>581.0</td>\n",
       "      <td>2.6250</td>\n",
       "      <td>72700.0</td>\n",
       "      <td>1.086233</td>\n",
       "      <td>11.000000</td>\n",
       "    </tr>\n",
       "    <tr>\n",
       "      <th>43</th>\n",
       "      <td>-115.50</td>\n",
       "      <td>32.75</td>\n",
       "      <td>13.0</td>\n",
       "      <td>330.0</td>\n",
       "      <td>72.0</td>\n",
       "      <td>822.0</td>\n",
       "      <td>64.0</td>\n",
       "      <td>3.4107</td>\n",
       "      <td>142500.0</td>\n",
       "      <td>0.401460</td>\n",
       "      <td>12.000000</td>\n",
       "    </tr>\n",
       "    <tr>\n",
       "      <th>3</th>\n",
       "      <td>-114.57</td>\n",
       "      <td>33.64</td>\n",
       "      <td>14.0</td>\n",
       "      <td>1501.0</td>\n",
       "      <td>337.0</td>\n",
       "      <td>515.0</td>\n",
       "      <td>226.0</td>\n",
       "      <td>3.1917</td>\n",
       "      <td>73400.0</td>\n",
       "      <td>2.914563</td>\n",
       "      <td>12.666667</td>\n",
       "    </tr>\n",
       "    <tr>\n",
       "      <th>27</th>\n",
       "      <td>-115.37</td>\n",
       "      <td>32.82</td>\n",
       "      <td>14.0</td>\n",
       "      <td>1276.0</td>\n",
       "      <td>270.0</td>\n",
       "      <td>867.0</td>\n",
       "      <td>261.0</td>\n",
       "      <td>1.9375</td>\n",
       "      <td>80900.0</td>\n",
       "      <td>1.471742</td>\n",
       "      <td>13.000000</td>\n",
       "    </tr>\n",
       "    <tr>\n",
       "      <th>38</th>\n",
       "      <td>-115.48</td>\n",
       "      <td>32.68</td>\n",
       "      <td>15.0</td>\n",
       "      <td>3414.0</td>\n",
       "      <td>666.0</td>\n",
       "      <td>2097.0</td>\n",
       "      <td>622.0</td>\n",
       "      <td>2.3319</td>\n",
       "      <td>91200.0</td>\n",
       "      <td>1.628040</td>\n",
       "      <td>13.400000</td>\n",
       "    </tr>\n",
       "  </tbody>\n",
       "</table>\n",
       "</div>"
      ],
      "text/plain": [
       "    longitude  latitude  housing_median_age  total_rooms  total_bedrooms  \\\n",
       "49    -115.51     32.68                11.0       2872.0           610.0   \n",
       "43    -115.50     32.75                13.0        330.0            72.0   \n",
       "3     -114.57     33.64                14.0       1501.0           337.0   \n",
       "27    -115.37     32.82                14.0       1276.0           270.0   \n",
       "38    -115.48     32.68                15.0       3414.0           666.0   \n",
       "\n",
       "    population  households  median_income  median_house_value  \\\n",
       "49      2644.0       581.0         2.6250             72700.0   \n",
       "43       822.0        64.0         3.4107            142500.0   \n",
       "3        515.0       226.0         3.1917             73400.0   \n",
       "27       867.0       261.0         1.9375             80900.0   \n",
       "38      2097.0       622.0         2.3319             91200.0   \n",
       "\n",
       "    rooms_per_person  h_m_age_rolling  \n",
       "49          1.086233        11.000000  \n",
       "43          0.401460        12.000000  \n",
       "3           2.914563        12.666667  \n",
       "27          1.471742        13.000000  \n",
       "38          1.628040        13.400000  "
      ]
     },
     "execution_count": 20,
     "metadata": {},
     "output_type": "execute_result"
    }
   ],
   "source": [
    "#remove sorting\n",
    "housing_df_sorted = housing_df.sort_values('housing_median_age')\n",
    "housing_df_sorted['h_m_age_rolling'] = housing_df_sorted['housing_median_age'].rolling(5, min_periods=1).mean()\n",
    "housing_df_sorted.head(PRINT_LIMIT)"
   ]
  },
  {
   "cell_type": "markdown",
   "metadata": {},
   "source": [
    "#  5. Embedding"
   ]
  },
  {
   "cell_type": "code",
   "execution_count": 21,
   "metadata": {},
   "outputs": [
    {
     "data": {
      "text/plain": [
       "<tf.Tensor: id=174, shape=(50, 50), dtype=float32, numpy=\n",
       "array([[0., 0., 0., ..., 0., 0., 0.],\n",
       "       [0., 0., 0., ..., 0., 0., 0.],\n",
       "       [0., 0., 0., ..., 0., 0., 0.],\n",
       "       ...,\n",
       "       [0., 0., 0., ..., 0., 0., 0.],\n",
       "       [0., 0., 0., ..., 0., 0., 0.],\n",
       "       [0., 0., 0., ..., 0., 0., 0.]], dtype=float32)>"
      ]
     },
     "execution_count": 21,
     "metadata": {},
     "output_type": "execute_result"
    }
   ],
   "source": [
    "#todo explain the size of 50 vs 10\n",
    "longitude_bucket_feature_column = tf.feature_column.bucketized_column(\n",
    "    tf.feature_column.numeric_column('longitude'),\n",
    "    boundaries=get_quantile_based_boundaries(housing_df['longitude'], 10))\n",
    "\n",
    "latitude_bucket_feature_column = tf.feature_column.bucketized_column(\n",
    "    tf.feature_column.numeric_column('latitude'),\n",
    "    boundaries=get_quantile_based_boundaries(housing_df['latitude'], 10))\n",
    "\n",
    "crossed_lat_lon_feature_column = tf.feature_column.crossed_column(\n",
    "    [longitude_bucket_feature_column, latitude_bucket_feature_column], 50)\n",
    "crossed_column=tf.feature_column.indicator_column(crossed_lat_lon_feature_column)\n",
    "\n",
    "features = {'longitude': tf.convert_to_tensor(housing_df['longitude']), 'latitude': tf.convert_to_tensor(housing_df['latitude'])}\n",
    "feature_columns=[crossed_column]\n",
    "tf.feature_column.input_layer(features,feature_columns)\n",
    "\n"
   ]
  },
  {
   "cell_type": "code",
   "execution_count": 40,
   "metadata": {},
   "outputs": [],
   "source": [
    "tf.feature_column.embedding_column?"
   ]
  },
  {
   "cell_type": "code",
   "execution_count": 23,
   "metadata": {},
   "outputs": [
    {
     "data": {
      "text/plain": [
       "<tf.Tensor: id=336, shape=(50, 2), dtype=float32, numpy=\n",
       "array([[-0.39916804,  0.7382097 ],\n",
       "       [-0.39916804,  0.7382097 ],\n",
       "       [-0.45139673,  0.0510562 ],\n",
       "       [-0.45139673,  0.0510562 ],\n",
       "       [-0.9637922 , -0.4054328 ],\n",
       "       [-0.45139673,  0.0510562 ],\n",
       "       [-0.45139673,  0.0510562 ],\n",
       "       [-0.45139673,  0.0510562 ],\n",
       "       [-0.45139673,  0.0510562 ],\n",
       "       [-0.45139673,  0.0510562 ],\n",
       "       [-0.45139673,  0.0510562 ],\n",
       "       [-0.42639452,  0.2340586 ],\n",
       "       [ 0.5371241 , -0.33556747],\n",
       "       [ 0.5371241 , -0.33556747],\n",
       "       [ 0.2944763 , -0.64874464],\n",
       "       [-1.107216  ,  0.07231083],\n",
       "       [-1.107216  ,  0.07231083],\n",
       "       [ 0.4566305 , -0.64787686],\n",
       "       [ 0.6559161 ,  0.6768343 ],\n",
       "       [ 0.5685392 ,  0.45155483],\n",
       "       [-0.41420764,  0.63762295],\n",
       "       [-0.41420764,  0.63762295],\n",
       "       [-0.16306353,  1.2384467 ],\n",
       "       [-0.16306353,  1.2384467 ],\n",
       "       [ 1.1762332 , -0.05374845],\n",
       "       [-0.39916804,  0.7382097 ],\n",
       "       [-0.39916804,  0.7382097 ],\n",
       "       [-0.39916804,  0.7382097 ],\n",
       "       [ 0.49745494,  0.743305  ],\n",
       "       [ 0.49745494,  0.743305  ],\n",
       "       [-0.19411506, -0.03304168],\n",
       "       [-0.4224891 , -0.38000086],\n",
       "       [ 0.4097597 , -0.07555765],\n",
       "       [-0.19411506, -0.03304168],\n",
       "       [-0.4905168 ,  0.5623122 ],\n",
       "       [ 0.80326456,  1.0519569 ],\n",
       "       [ 0.5371241 , -0.33556747],\n",
       "       [-0.19411506, -0.03304168],\n",
       "       [-1.1105239 ,  0.10140067],\n",
       "       [ 0.80326456,  1.0519569 ],\n",
       "       [-1.1105239 ,  0.10140067],\n",
       "       [ 0.50019497,  0.59791553],\n",
       "       [ 0.50019497,  0.59791553],\n",
       "       [-0.09113803, -0.8108627 ],\n",
       "       [-0.09113803, -0.8108627 ],\n",
       "       [ 0.3932598 ,  1.0754938 ],\n",
       "       [ 0.49745494,  0.743305  ],\n",
       "       [ 0.49745494,  0.743305  ],\n",
       "       [-0.09113803, -0.8108627 ],\n",
       "       [ 0.2944763 , -0.64874464]], dtype=float32)>"
      ]
     },
     "execution_count": 23,
     "metadata": {},
     "output_type": "execute_result"
    }
   ],
   "source": [
    "#\n",
    "tf.tables_initializer()\n",
    "\n",
    "#todo explain the size of 50 vs 10\n",
    "longitude_bucket_feature_column = tf.feature_column.bucketized_column(\n",
    "    tf.feature_column.numeric_column('longitude'),\n",
    "    boundaries=get_quantile_based_boundaries(housing_df['longitude'], 10))\n",
    "\n",
    "latitude_bucket_feature_column = tf.feature_column.bucketized_column(\n",
    "    tf.feature_column.numeric_column('latitude'),\n",
    "    boundaries=get_quantile_based_boundaries(housing_df['latitude'], 10))\n",
    "\n",
    "crossed_column = tf.feature_column.crossed_column(\n",
    "    [longitude_bucket_feature_column, latitude_bucket_feature_column], 50)\n",
    "\n",
    "embedding_dimensions=int(50**0.25)\n",
    "\n",
    "# Represent the categorical column as an embedding column.\n",
    "# This means creating an embedding vector lookup table with one element for each category.\n",
    "embedding_column = tf.feature_column.embedding_column(\n",
    "    categorical_column=crossed_column,\n",
    "    dimension=embedding_dimensions)\n",
    "\n",
    "features = {'longitude': tf.convert_to_tensor(housing_df['longitude']), 'latitude': tf.convert_to_tensor(housing_df['latitude'])}\n",
    "feature_columns=[embedding_column]\n",
    "tf.feature_column.input_layer(features,feature_columns)"
   ]
  },
  {
   "cell_type": "code",
   "execution_count": 24,
   "metadata": {},
   "outputs": [
    {
     "data": {
      "text/plain": [
       "EmbeddingColumn(categorical_column=CrossedColumn(keys=(BucketizedColumn(source_column=NumericColumn(key='longitude', shape=(1,), default_value=None, dtype=tf.float32, normalizer_fn=None), boundaries=(-115.5, -115.49, -115.40299999999999, -115.374, -115.27, -114.676, -114.644, -114.6, -114.579)), BucketizedColumn(source_column=NumericColumn(key='latitude', shape=(1,), default_value=None, dtype=tf.float32, normalizer_fn=None), boundaries=(32.68, 32.758, 32.81, 32.82, 33.055, 33.51, 33.61, 33.716, 34.577999999999996))), hash_bucket_size=50, hash_key=None), dimension=2, combiner='mean', initializer=<tensorflow.python.ops.init_ops.TruncatedNormal object at 0x000002107DA4A7B8>, ckpt_to_load_from=None, tensor_name_in_ckpt=None, max_norm=None, trainable=True)"
      ]
     },
     "execution_count": 24,
     "metadata": {},
     "output_type": "execute_result"
    }
   ],
   "source": [
    "embedding_column"
   ]
  },
  {
   "cell_type": "markdown",
   "metadata": {},
   "source": [
    "# 6. simple model improved after feature engineering.\n",
    "Let's make some tests with our processed data. Does the feature processing actually improves the prediction?\n",
    "\n",
    "First we need to define a really simple linear regression using Tensorflow."
   ]
  },
  {
   "cell_type": "code",
   "execution_count": 32,
   "metadata": {},
   "outputs": [],
   "source": [
    "# estimator\n",
    "# Definition of linear equation\n",
    "a = tfe.Variable(np.random.randn())\n",
    "b = tfe.Variable(np.random.randn())\n",
    "\n",
    "def linear_regression(inputs):\n",
    "    return inputs * a + b"
   ]
  },
  {
   "cell_type": "code",
   "execution_count": 33,
   "metadata": {},
   "outputs": [],
   "source": [
    "# Regression objective as minimization of error\n",
    "def mean_square_fn(model_fn, inputs, labels):\n",
    "    n_samples = int(tf.size(labels))\n",
    "    return tf.reduce_sum(tf.pow(model_fn(inputs) - labels, 2)) / (2 * n_samples)"
   ]
  },
  {
   "cell_type": "code",
   "execution_count": 34,
   "metadata": {},
   "outputs": [],
   "source": [
    "# Training optimizer\n",
    "optimizer = tf.train.GradientDescentOptimizer(learning_rate=LEARNING_RATE)\n",
    "grad = tfe.implicit_gradients(mean_square_fn)"
   ]
  },
  {
   "cell_type": "code",
   "execution_count": 35,
   "metadata": {},
   "outputs": [],
   "source": [
    "# Main regression routine\n",
    "def make_regression(x, y):\n",
    "    for step in range(NUM_STEPS):\n",
    "        optimizer.apply_gradients(grad(linear_regression, x, y))\n",
    "        if (step + 1) % DISPLAY_STEP == 0 or step == 0:\n",
    "            print(\"Epoch:\", '%04d' % (step + 1), \"cost=\",\n",
    "                  \"{:.9f}\".format(mean_square_fn(linear_regression, x, y)),\n",
    "                  \"a=\", a.numpy(), \"b=\", b.numpy())\n",
    "    return a, b"
   ]
  },
  {
   "cell_type": "code",
   "execution_count": 36,
   "metadata": {},
   "outputs": [],
   "source": [
    "# Plot results\n",
    "def make_plot(x, y):\n",
    "    plt.plot(x, y, 'ro', label='Original')\n",
    "    plt.plot(x, np.array(a * x + b), label='Fitted')\n",
    "    plt.legend()\n",
    "    plt.show()"
   ]
  },
  {
   "cell_type": "markdown",
   "metadata": {},
   "source": [
    "What if we want to estimate median income using the source median housing age?"
   ]
  },
  {
   "cell_type": "code",
   "execution_count": 37,
   "metadata": {},
   "outputs": [
    {
     "name": "stdout",
     "output_type": "stream",
     "text": [
      "Epoch: 0001 cost= 0.868670702 a= 0.059423007 b= 0.09744411\n",
      "Epoch: 0200 cost= 0.743745744 a= 0.07612521 b= 0.15019244\n",
      "Epoch: 0400 cost= 0.730679989 a= 0.0742293 b= 0.20127653\n",
      "Epoch: 0600 cost= 0.718225121 a= 0.07237824 b= 0.25115222\n",
      "Epoch: 0800 cost= 0.706352174 a= 0.07057094 b= 0.2998487\n",
      "Epoch: 1000 cost= 0.695034325 a= 0.068806395 b= 0.3473932\n",
      "Epoch: 1200 cost= 0.684245527 a= 0.06708358 b= 0.39381328\n",
      "Epoch: 1400 cost= 0.673960924 a= 0.06540152 b= 0.43913552\n",
      "Epoch: 1600 cost= 0.664157093 a= 0.06375923 b= 0.4833858\n",
      "Epoch: 1800 cost= 0.654811561 a= 0.062155787 b= 0.5265896\n",
      "Epoch: 2000 cost= 0.645902872 a= 0.060590267 b= 0.5687716\n",
      "Epoch: 2200 cost= 0.637410462 a= 0.059061773 b= 0.60995585\n",
      "Epoch: 2400 cost= 0.629315197 a= 0.057569437 b= 0.650166\n",
      "Epoch: 2600 cost= 0.621598184 a= 0.056112383 b= 0.6894253\n",
      "Epoch: 2800 cost= 0.614241898 a= 0.054689795 b= 0.727756\n",
      "Epoch: 3000 cost= 0.607229471 a= 0.053300854 b= 0.76518023\n"
     ]
    },
    {
     "data": {
      "image/png": "[encoded data removed]",
      "text/plain": [
       "<Figure size 432x288 with 1 Axes>"
      ]
     },
     "metadata": {
      "needs_background": "light"
     },
     "output_type": "display_data"
    }
   ],
   "source": [
    "age_net = prepare_feature_numeric_column('housing_median_age')\n",
    "income_net = prepare_feature_numeric_column('median_income')\n",
    "a, b = make_regression(age_net, income_net)\n",
    "make_plot(age_net, income_net)"
   ]
  },
  {
   "cell_type": "markdown",
   "metadata": {},
   "source": [
    "Scaling is also a good try to improve the accuracy, but unfortunately not in this case..."
   ]
  },
  {
   "cell_type": "code",
   "execution_count": 38,
   "metadata": {},
   "outputs": [
    {
     "name": "stdout",
     "output_type": "stream",
     "text": [
      "Epoch: 0001 cost= 1.516047955 a= 0.053213637 b= 0.7666294\n",
      "Epoch: 0200 cost= 1.170572639 a= 0.03745359 b= 1.0279899\n",
      "Epoch: 0400 cost= 0.937621355 a= 0.024428219 b= 1.2431387\n",
      "Epoch: 0600 cost= 0.781495869 a= 0.013722212 b= 1.4192702\n",
      "Epoch: 0800 cost= 0.676859438 a= 0.00492259 b= 1.5634606\n",
      "Epoch: 1000 cost= 0.606731951 a= -0.0023101107 b= 1.6815009\n",
      "Epoch: 1200 cost= 0.559732378 a= -0.00825491 b= 1.778134\n",
      "Epoch: 1400 cost= 0.528232396 a= -0.0131411385 b= 1.8572437\n",
      "Epoch: 1600 cost= 0.507121027 a= -0.017157294 b= 1.9220065\n",
      "Epoch: 1800 cost= 0.492972106 a= -0.020458305 b= 1.9750245\n",
      "Epoch: 2000 cost= 0.483489305 a= -0.02317152 b= 2.018428\n",
      "Epoch: 2200 cost= 0.477133840 a= -0.0254016 b= 2.0539606\n",
      "Epoch: 2400 cost= 0.472874492 a= -0.027234575 b= 2.0830483\n",
      "Epoch: 2600 cost= 0.470019907 a= -0.028741172 b= 2.1068602\n",
      "Epoch: 2800 cost= 0.468106717 a= -0.029979482 b= 2.126354\n",
      "Epoch: 3000 cost= 0.466824412 a= -0.030997291 b= 2.1423135\n"
     ]
    },
    {
     "data": {
      "image/png": "[encoded data removed]",
      "text/plain": [
       "<Figure size 432x288 with 1 Axes>"
      ]
     },
     "metadata": {
      "needs_background": "light"
     },
     "output_type": "display_data"
    }
   ],
   "source": [
    "a, b = make_regression(net_age_scale, income_net)\n",
    "make_plot(net_age_scale, income_net)"
   ]
  },
  {
   "cell_type": "markdown",
   "metadata": {},
   "source": [
    "Bit of uniformity seems also not impressive in this case."
   ]
  },
  {
   "cell_type": "code",
   "execution_count": 39,
   "metadata": {},
   "outputs": [
    {
     "name": "stdout",
     "output_type": "stream",
     "text": [
      "Epoch: 0001 cost= 0.472005337 a= -0.03077873 b= 2.1424444\n",
      "Epoch: 0200 cost= 0.466567546 a= -0.0049370476 b= 2.1605928\n",
      "Epoch: 0400 cost= 0.465754092 a= 0.00250943 b= 2.1704326\n",
      "Epoch: 0600 cost= 0.465510130 a= 0.0035740098 b= 2.1772451\n",
      "Epoch: 0800 cost= 0.465343297 a= 0.0024811474 b= 2.1829042\n",
      "Epoch: 1000 cost= 0.465194196 a= 0.00068904454 b= 2.1880605\n",
      "Epoch: 1200 cost= 0.465055317 a= -0.0012999416 b= 2.1929414\n",
      "Epoch: 1400 cost= 0.464925051 a= -0.003313656 b= 2.197631\n",
      "Epoch: 1600 cost= 0.464802980 a= -0.005294091 b= 2.2021575\n",
      "Epoch: 1800 cost= 0.464688540 a= -0.0072224606 b= 2.206537\n",
      "Epoch: 2000 cost= 0.464581102 a= -0.009093543 b= 2.2107775\n",
      "Epoch: 2200 cost= 0.464480430 a= -0.010906777 b= 2.2148814\n",
      "Epoch: 2400 cost= 0.464386076 a= -0.012663253 b= 2.218856\n",
      "Epoch: 2600 cost= 0.464297414 a= -0.014364393 b= 2.2227077\n",
      "Epoch: 2800 cost= 0.464214414 a= -0.016011873 b= 2.2264342\n",
      "Epoch: 3000 cost= 0.464136362 a= -0.017607404 b= 2.2300472\n"
     ]
    },
    {
     "data": {
      "image/png": "[encoded data removed]",
      "text/plain": [
       "<Figure size 432x288 with 1 Axes>"
      ]
     },
     "metadata": {
      "needs_background": "light"
     },
     "output_type": "display_data"
    }
   ],
   "source": [
    "a, b = make_regression(bucket_index, income_net)\n",
    "make_plot(bucket_index, income_net)"
   ]
  },
  {
   "cell_type": "code",
   "execution_count": null,
   "metadata": {},
   "outputs": [],
   "source": []
  }
 ],
 "metadata": {
  "kernelspec": {
   "display_name": "Python 3",
   "language": "python",
   "name": "python3"
  },
  "language_info": {
   "codemirror_mode": {
    "name": "ipython",
    "version": 3
   },
   "file_extension": ".py",
   "mimetype": "text/x-python",
   "name": "python",
   "nbconvert_exporter": "python",
   "pygments_lexer": "ipython3",
   "version": "3.7.3"
  }
 },
 "nbformat": 4,
 "nbformat_minor": 2
}
